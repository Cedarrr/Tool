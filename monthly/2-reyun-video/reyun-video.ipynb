{
 "cells": [
  {
   "cell_type": "code",
   "execution_count": 8,
   "id": "82c15256",
   "metadata": {},
   "outputs": [
    {
     "name": "stdout",
     "output_type": "stream",
     "text": [
      "done\n"
     ]
    }
   ],
   "source": [
    "import pandas as pd\n",
    "\n",
    "file_loc='5-6.xlsx'\n",
    "output_name=\"output-\"+file_loc\n",
    "\n",
    "data=pd.read_excel(file_loc)\n",
    "target_data=pd.DataFrame()\n",
    "target_data['素材名称']=data['素材名称']\n",
    "target_data['素材地址']=data['素材地址']\n",
    "#target_data['日期']=data['月份']\n",
    "target_data['总花费']=data['总花费']\n",
    "target_data['点击率%']=round(data['点击数']/data['展示数'],4)*100\n",
    "target_data['激活转化率%']=round(data['激活数']/data['点击数'],4)*100\n",
    "target_data['注册率%']=round(data['注册数']/data['激活数'],4)*100\n",
    "target_data['注册成本']=round(data['总花费']/data['注册数'],2)\n",
    "target_data['次留率%']=round(data['次留数']/data['激活数'],4)*100\n",
    "target_data['次留成本']=round(data['总花费']/data['次留数'],2)\n",
    "target_data['首日付费率%']=round(data['首次付费次数']/data['激活数'],4)*100\n",
    "target_data['有效播放率%']=round(data['有效播放数']/data['播放数'],4)*100\n",
    "target_data['25%进度播放率%']=round(data['25%进度播放数']/data['播放数'],4)*100\n",
    "target_data['50%进度播放率%']=round(data['50%进度播放数']/data['播放数'],4)*100\n",
    "target_data['75%进度播放率%']=round(data['75%进度播放数']/data['播放数'],4)*100\n",
    "target_data['99%进度播放率%']=round(data['99%进度播放数']/data['播放数'],4)*100\n",
    "\n",
    "writer=pd.ExcelWriter(output_name)\n",
    "target_data.to_excel(writer,'ALL',index=False)\n",
    "writer.save()\n",
    "print(\"done\")\n"
   ]
  }
 ],
 "metadata": {
  "kernelspec": {
   "display_name": "Python 3 (ipykernel)",
   "language": "python",
   "name": "python3"
  },
  "language_info": {
   "codemirror_mode": {
    "name": "ipython",
    "version": 3
   },
   "file_extension": ".py",
   "mimetype": "text/x-python",
   "name": "python",
   "nbconvert_exporter": "python",
   "pygments_lexer": "ipython3",
   "version": "3.9.12"
  }
 },
 "nbformat": 4,
 "nbformat_minor": 5
}
