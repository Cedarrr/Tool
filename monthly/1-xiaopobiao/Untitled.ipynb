{
 "cells": [
  {
   "cell_type": "code",
   "execution_count": 26,
   "id": "2e36705f-811a-4b5d-872f-8c512f828be1",
   "metadata": {},
   "outputs": [
    {
     "name": "stdout",
     "output_type": "stream",
     "text": [
      "done\n"
     ]
    }
   ],
   "source": [
    "# 头条账户\n",
    "import pandas as pd\n",
    "data_loc='171.xlsx'\n",
    "data = pd.read_excel(data_loc)\n",
    "out=pd.DataFrame()\n",
    "OUTPUT_NAME=\"OUTPUT+\"+data_loc\n",
    "\n",
    "out['账户名称']=data['账户名称']\n",
    "out['日期']=data['日期']\n",
    "out['账户消耗']=data['账户总支出(¥)']\n",
    "out['实际消耗']=round(out['账户消耗']/1.06,2)\n",
    "out['账户余额']=data['总余额(¥)']\n",
    "out['加款转账情况']=data['账户总转入(¥)']-data['账户总转出(¥)']\n",
    "out['加款转账情况']=out['加款转账情况'].replace(0,\"\")\n",
    "out.sort_values('日期',inplace=True)\n",
    "out_clear=out.drop(out[(out['账户消耗']==0)&(out['加款转账情况']==\"\")].index)\n",
    "\n",
    "writer = pd.ExcelWriter(OUTPUT_NAME)\n",
    "out_clear.to_excel(writer,\"out_clear\",index=False)\n",
    "out.to_excel(writer,\"out\",index=False)\n",
    "data.to_excel(writer,\"data\",index=False)\n",
    "writer.save()\n",
    "\n",
    "print(\"done\")"
   ]
  },
  {
   "cell_type": "code",
   "execution_count": 35,
   "id": "4d86d29b-095e-4d6c-af69-b5449962cdd1",
   "metadata": {},
   "outputs": [
    {
     "name": "stdout",
     "output_type": "stream",
     "text": [
      "done\n"
     ]
    }
   ],
   "source": [
    "# 快手账户\n",
    "# 时间object to str\n",
    "# https://blog.csdn.net/MsSpark/article/details/83352891\n",
    "import pandas as pd\n",
    "data_loc='kuaishou-9106.xlsx'\n",
    "data = pd.read_excel(data_loc)\n",
    "out=pd.DataFrame()\n",
    "OUTPUT_NAME=\"OUTPUT+\"+data_loc\n",
    "\n",
    "data=data.drop(data[data['时间']=='全局汇总'].index)\n",
    "out['日期']=pd.to_datetime(data['时间']).map(lambda x:x.strftime('%Y-%m-%d'))\n",
    "\n",
    "\n",
    "out['账户消耗']=data['总花费-实耗']\n",
    "out['实际消耗']=round(out['账户消耗']/1.16,2)\n",
    "out['账户余额']=data['日终结余']\n",
    "out['加款转账情况']=data['总转入']-data['总转出']\n",
    "out['加款转账情况']=out['加款转账情况'].replace(0,\"\")\n",
    "out.sort_values('日期',inplace=True)\n",
    "out_clear=out.drop(out[(out['账户消耗']==0)&(out['加款转账情况']==\"\")].index)\n",
    "\n",
    "writer = pd.ExcelWriter(OUTPUT_NAME)\n",
    "out_clear.to_excel(writer,\"out_clear\",index=False)\n",
    "out.to_excel(writer,\"out\",index=False)\n",
    "data.to_excel(writer,\"data\",index=False)\n",
    "writer.save()\n",
    "\n",
    "print(\"done\")"
   ]
  },
  {
   "cell_type": "code",
   "execution_count": null,
   "id": "85a664b5-378c-4b4b-a8a1-1b80b01cfbbe",
   "metadata": {},
   "outputs": [],
   "source": []
  }
 ],
 "metadata": {
  "kernelspec": {
   "display_name": "Python 3 (ipykernel)",
   "language": "python",
   "name": "python3"
  },
  "language_info": {
   "codemirror_mode": {
    "name": "ipython",
    "version": 3
   },
   "file_extension": ".py",
   "mimetype": "text/x-python",
   "name": "python",
   "nbconvert_exporter": "python",
   "pygments_lexer": "ipython3",
   "version": "3.9.12"
  }
 },
 "nbformat": 4,
 "nbformat_minor": 5
}
