{
 "cells": [
  {
   "cell_type": "code",
   "execution_count": 16,
   "id": "2e36705f-811a-4b5d-872f-8c512f828be1",
   "metadata": {},
   "outputs": [
    {
     "name": "stdout",
     "output_type": "stream",
     "text": [
      "done\n"
     ]
    }
   ],
   "source": [
    "import pandas as pd\n",
    "data_loc='80.xlsx'\n",
    "data = pd.read_excel(data_loc)\n",
    "out=pd.DataFrame()\n",
    "OUTPUT_NAME=\"OUTPUT+\"+data_loc\n",
    "\n",
    "out['账户名称']=data['账户名称']\n",
    "out['日期']=data['日期']\n",
    "out['账户消耗']=data['账户总支出(¥)']\n",
    "out['实际消耗']=round(out['账户消耗']/1.06,2)\n",
    "out['账户余额']=data['总余额(¥)']\n",
    "out['加款转账情况']=data['账户总转入(¥)']-data['账户总转出(¥)']\n",
    "out['加款转账情况']=out['加款转账情况'].replace(0,\"\")\n",
    "out.sort_values('日期',inplace=True)\n",
    "out_clear=out.drop(out[(out['账户消耗']==0)&(out['加款转账情况']==\"\")].index)\n",
    "\n",
    "writer = pd.ExcelWriter(OUTPUT_NAME)\n",
    "out_clear.to_excel(writer,\"out_clear\",index=False)\n",
    "out.to_excel(writer,\"out\",index=False)\n",
    "data.to_excel(writer,\"data\",index=False)\n",
    "writer.save()\n",
    "\n",
    "print(\"done\")"
   ]
  },
  {
   "cell_type": "code",
   "execution_count": null,
   "id": "4d86d29b-095e-4d6c-af69-b5449962cdd1",
   "metadata": {},
   "outputs": [],
   "source": []
  }
 ],
 "metadata": {
  "kernelspec": {
   "display_name": "Python 3 (ipykernel)",
   "language": "python",
   "name": "python3"
  },
  "language_info": {
   "codemirror_mode": {
    "name": "ipython",
    "version": 3
   },
   "file_extension": ".py",
   "mimetype": "text/x-python",
   "name": "python",
   "nbconvert_exporter": "python",
   "pygments_lexer": "ipython3",
   "version": "3.9.12"
  }
 },
 "nbformat": 4,
 "nbformat_minor": 5
}
