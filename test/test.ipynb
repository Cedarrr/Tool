{
 "cells": [
  {
   "cell_type": "code",
   "execution_count": 10,
   "metadata": {},
   "outputs": [
    {
     "name": "stdout",
     "output_type": "stream",
     "text": [
      "start\n",
      "readlines\n",
      "filtering tongjifnagshi\n",
      "filtering cpid\n",
      "write\n",
      "done\n"
     ]
    }
   ],
   "source": [
    "import pandas as pd\n",
    "import numpy as np\n",
    "\n",
    "\n",
    "print('start')\n",
    "tongjifangshi=['TD']\n",
    "\n",
    "print('readlines')\n",
    "cpid=[]\n",
    "txt=open('cpid.txt','r').readlines()\n",
    "for line in txt:\n",
    "    line=line.replace('\\n','')\n",
    "    cpid.append(line)\n",
    "    \n",
    "print('filtering tongjifnagshi')\n",
    "data=pd.read_excel('data.xlsx')\n",
    "data=data[data['统计方式'].isin(tongjifangshi)]\n",
    "print('filtering cpid')\n",
    "data=data[data['广告商'].isin(cpid)]\n",
    "print('write')\n",
    "\n",
    "print('done')"
   ]
  },
  {
   "cell_type": "code",
   "execution_count": 11,
   "metadata": {
    "scrolled": true
   },
   "outputs": [
    {
     "name": "stdout",
     "output_type": "stream",
     "text": [
      "done\n"
     ]
    }
   ],
   "source": [
    "import datetime\n",
    "data['广告id']=data['广告id'].astype(str)\n",
    "data['日期']=data['日期'].astype(str)\n",
    "#data['日期']=data['日期'].astype('datetime64')\n",
    "data=data.drop(data[data['广告id'].str.contains(pat=r'^2103.*',regex=True)].index)\n",
    "data['日期']=data['日期'].str.split(\" \",expand=True)[0]\n",
    "#data['日期'].astype('datetime64')\n",
    "#data['日期']=data['日期'].apply(lambda x:datetime.strptime(x,'%Y/%m/%d'))\n",
    "\n",
    "data=data.replace('-',0)\n",
    "data['f1']=data['f1'].astype(float)\n",
    "data['f3']=data['f3'].astype(float)\n",
    "data['f7']=data['f7'].astype(float)\n",
    "data['f15']=data['f15'].astype(float)\n",
    "data['f30']=data['f30'].astype(float)\n",
    "data['f60']=data['f60'].astype(float)\n",
    "data['f90']=data['f90'].astype(float)\n",
    "data['f180']=data['f180'].astype(float)\n",
    "data['c1']=data['c1'].astype(float)\n",
    "data['c3']=data['c3'].astype(float)\n",
    "data['c7']=data['c7'].astype(float)\n",
    "data['c15']=data['c15'].astype(float)\n",
    "data['c30']=data['c30'].astype(float)\n",
    "data['c60']=data['c60'].astype(float)\n",
    "data['c90']=data['c90'].astype(float)\n",
    "data['c180']=data['c180'].astype(float)\n",
    "data.to_excel('output-new.xlsx',index=False)\n",
    "print(\"done\")"
   ]
  },
  {
   "cell_type": "code",
   "execution_count": 12,
   "metadata": {
    "scrolled": true
   },
   "outputs": [
    {
     "name": "stdout",
     "output_type": "stream",
     "text": [
      "done\n"
     ]
    }
   ],
   "source": [
    "data[\"year\"]=pd.DatetimeIndex(data[\"日期\"]).year\n",
    "data[\"month\"]=pd.DatetimeIndex(data[\"日期\"]).month\n",
    "\n",
    "all_data=pd.pivot_table(data,index=['month','广告商'],aggfunc=np.sum,margins=True)\n",
    "\n",
    "\n",
    "\n",
    "all_data['LTV1']=round(all_data['f1']/all_data['激活'],2)\n",
    "all_data['LTV3']=round(all_data['f3']/all_data['激活'],2)\n",
    "all_data['LTV7']=round(all_data['f7']/all_data['激活'],2)\n",
    "all_data['LTV15']=round(all_data['f15']/all_data['激活'],2)\n",
    "all_data['LTV30']=round(all_data['f30']/all_data['激活'],2)\n",
    "\n",
    "all_data['付费率-%']=all_data['c1']/all_data['激活']\n",
    "all_data['付费率']=all_data['付费率-%'].apply(lambda x: format(x,'.2%'))\n",
    "all_data['次留率-%']=round(all_data['次留']/all_data['激活'],4)\n",
    "all_data['次留率']=all_data['次留率-%'].apply(lambda x: format(x,'.2%'))\n",
    "all_data['三留率-%']=round(all_data['三留']/all_data['激活'],4)\n",
    "all_data['三留率']=all_data['三留率-%'].apply(lambda x: format(x,'.2%'))\n",
    "all_data['七留率-%']=round(all_data['七留']/all_data['激活'],4)\n",
    "all_data['七留率']=all_data['七留率-%'].apply(lambda x: format(x,'.2%'))\n",
    "\n",
    "#all_data['次留率']=round(all_data['次留']/all_data['激活'],2)\n",
    "\n",
    "final_data=pd.DataFrame(all_data,columns=['付费率','LTV1','LTV3','LTV7','LTV15','LTV30','次留率','三留率','七留率','有效激活设备数'])\n",
    "final_cal_data=pd.DataFrame(all_data,columns=['LTV1','LTV3','LTV7','LTV15','LTV30','付费率-%','次留率-%','三留率-%','七留率-%','有效激活设备数'])\n",
    "\n",
    "writer=pd.ExcelWriter('output-final.xlsx')\n",
    "\n",
    "\n",
    "all_data.to_excel(writer,'ALL')\n",
    "final_data.to_excel(writer,'final')\n",
    "final_cal_data.to_excel(writer,'cal')\n",
    "writer.save()\n",
    "#print(data_final)\n",
    "print('done')"
   ]
  },
  {
   "cell_type": "code",
   "execution_count": null,
   "metadata": {},
   "outputs": [],
   "source": []
  }
 ],
 "metadata": {
  "kernelspec": {
   "display_name": "Python 3 (ipykernel)",
   "language": "python",
   "name": "python3"
  },
  "language_info": {
   "codemirror_mode": {
    "name": "ipython",
    "version": 3
   },
   "file_extension": ".py",
   "mimetype": "text/x-python",
   "name": "python",
   "nbconvert_exporter": "python",
   "pygments_lexer": "ipython3",
   "version": "3.9.12"
  }
 },
 "nbformat": 4,
 "nbformat_minor": 4
}
