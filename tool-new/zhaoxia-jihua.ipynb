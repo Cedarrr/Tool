{
 "cells": [
  {
   "cell_type": "code",
   "execution_count": 7,
   "id": "158f4026-d122-4284-a750-ea50820f7110",
   "metadata": {},
   "outputs": [
    {
     "name": "stdout",
     "output_type": "stream",
     "text": [
      "done\n"
     ]
    }
   ],
   "source": [
    "\n",
    "import pandas as pd\n",
    "\n",
    "sucai_name='zhaoxia-jihua.xlsx'\n",
    "\n",
    "DATA_LOC='data/'+sucai_name\n",
    "OUTPUT_LOC='output/test-'+sucai_name\n",
    "\n",
    "data=pd.read_excel(DATA_LOC)\n",
    "\n",
    "out=round(data.describe(),1)\n",
    "\n",
    "writer=pd.ExcelWriter(OUTPUT_LOC)\n",
    "out.to_excel(writer,'all')\n",
    "writer.save()\n",
    "\n",
    "\n",
    "print(\"done\")"
   ]
  },
  {
   "cell_type": "code",
   "execution_count": 3,
   "id": "692a1879-4eef-4114-af1c-cc4712e93c49",
   "metadata": {},
   "outputs": [
    {
     "data": {
      "text/plain": [
       "开关        object\n",
       "计划名称      object\n",
       "计划ID       int64\n",
       "计划状态      object\n",
       "账户ID       int64\n",
       "           ...  \n",
       "注册成本      object\n",
       "首日付费成本    object\n",
       "首日ROI     object\n",
       "3日ROI     object\n",
       "7日ROI     object\n",
       "Length: 125, dtype: object"
      ]
     },
     "execution_count": 3,
     "metadata": {},
     "output_type": "execute_result"
    }
   ],
   "source": [
    "data.dtypes"
   ]
  },
  {
   "cell_type": "code",
   "execution_count": 5,
   "id": "e6176db6-c80d-49db-92d7-cdb7278f5223",
   "metadata": {},
   "outputs": [
    {
     "data": {
      "text/plain": [
       "开关                                                      启用\n",
       "计划名称      2170316-+【天尊】220406-余福承-强化刷怪-+221021_14:39-+通投-1\n",
       "计划ID                                      1747278232727603\n",
       "计划状态                                                   投放中\n",
       "账户ID                                      1744387715165198\n",
       "                                ...                       \n",
       "注册成本                                                180.12\n",
       "首日付费成本                                                0.00\n",
       "首日ROI                                                0.00%\n",
       "3日ROI                                                0.00%\n",
       "7日ROI                                                0.00%\n",
       "Name: 1, Length: 125, dtype: object"
      ]
     },
     "execution_count": 5,
     "metadata": {},
     "output_type": "execute_result"
    }
   ],
   "source": [
    "data.iloc[1]"
   ]
  },
  {
   "cell_type": "code",
   "execution_count": null,
   "id": "f5e064fc-59be-4453-98bd-7904758c9e2e",
   "metadata": {},
   "outputs": [],
   "source": []
  }
 ],
 "metadata": {
  "kernelspec": {
   "display_name": "Python 3 (ipykernel)",
   "language": "python",
   "name": "python3"
  },
  "language_info": {
   "codemirror_mode": {
    "name": "ipython",
    "version": 3
   },
   "file_extension": ".py",
   "mimetype": "text/x-python",
   "name": "python",
   "nbconvert_exporter": "python",
   "pygments_lexer": "ipython3",
   "version": "3.9.12"
  }
 },
 "nbformat": 4,
 "nbformat_minor": 5
}
