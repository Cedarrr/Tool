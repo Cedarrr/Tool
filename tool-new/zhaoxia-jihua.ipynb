{
 "cells": [
  {
   "cell_type": "code",
   "execution_count": 1,
   "id": "158f4026-d122-4284-a750-ea50820f7110",
   "metadata": {},
   "outputs": [
    {
     "name": "stdout",
     "output_type": "stream",
     "text": [
      "done\n"
     ]
    }
   ],
   "source": [
    "# 朝霞计划拆分\n",
    "import pandas as pd\n",
    "\n",
    "sucai_name='zhaoxia-jihua.xlsx'\n",
    "\n",
    "DATA_LOC='data/'+sucai_name\n",
    "OUTPUT_LOC='output/test-'+sucai_name\n",
    "\n",
    "\n",
    "data=pd.read_excel(DATA_LOC)\n",
    "out=pd.DataFrame()\n",
    "\n",
    "\n",
    "out['广告计划名称']=data['广告计划名称']\n",
    "\n",
    "\n",
    "out['消耗']=data['消耗']\n",
    "out['千次展示成本']=data['千次展示成本']\n",
    "out['点击率']=data['点击率']\n",
    "out['首日付费金额']=data['首日广告付费金额-MP']*2\n",
    "out['首日ROI']=round(data['首日ROI-MP']*100,2)\n",
    "out['3日ROI']=round(data['3日ROI-MP']*100,2)\n",
    "out['7日ROI']=round(data['7日ROI-MP']*100,2)\n",
    "out['首日ARPU']=data['首日ARPU-MP']\n",
    "out['首日ARPPU']=data['首日ARPPU-MP']\n",
    "out['次留率']=data['次留率-MP']\n",
    "out['出价']=data['出价']\n",
    "out['投放场景']=data['投放场景']\n",
    "out['一键起量']=data['一键起量']\n",
    "out['创建日期']=data['创建时间'].str.split(' ',expand=True)[0]\n",
    "out['创建时间']=data['创建时间'].str.split(' ',expand=True)[1]\n",
    "\n",
    "\n",
    "writer=pd.ExcelWriter(OUTPUT_LOC)\n",
    "out.to_excel(writer,'all',index=False)\n",
    "writer.save()\n",
    "\n",
    "\n",
    "print(\"done\")"
   ]
  },
  {
   "cell_type": "code",
   "execution_count": 5,
   "id": "692a1879-4eef-4114-af1c-cc4712e93c49",
   "metadata": {
    "tags": []
   },
   "outputs": [
    {
     "name": "stdout",
     "output_type": "stream",
     "text": [
      "             计划个数        消耗  首日广告付费金额-MP  3日广告付费金额-MP  次留数-MP  首日ROI  3日ROI  \\\n",
      "投放场景   一键起量                                                                   \n",
      "常规投放   均衡投放    12    996.86          0.0          0.0     0.0   0.00   0.00   \n",
      "最大转化投放 优先跑量    30  14145.83         19.0         19.0     0.0   0.13   0.13   \n",
      "\n",
      "             次留率  \n",
      "投放场景   一键起量       \n",
      "常规投放   均衡投放  0.0  \n",
      "最大转化投放 优先跑量  0.0  \n",
      "done\n"
     ]
    }
   ],
   "source": [
    "# 计划看板\n",
    "\n",
    "FILE_NAME=\"zx-jihua-self\"\n",
    "DATA_LOC=\"data/\"+FILE_NAME+\".csv\"\n",
    "OUTPUT_LOC=\"output/out-\"+FILE_NAME+\".xlsx\"\n",
    "\n",
    "import pandas as pd\n",
    "import numpy as np\n",
    "\n",
    "\n",
    "data=pd.read_csv(DATA_LOC,encoding='GB18030')\n",
    "\n",
    "#gongju_pt=pd.pivot_table(data,index=[u'投放场景',u'一键起量'],values=[u'付费数',u'消耗',u'首日广告付费金额-MP'],aggfunc=['count',len,np.sum])\n",
    "\n",
    "\n",
    "\n",
    "def jihua_groupby(group_data,group_index):\n",
    "    pd_groupby=group_data.groupby(group_index).aggregate({'下载链接':\"count\",\\\n",
    "                                                          '消耗':\"sum\",\\\n",
    "                                                          '首日广告付费金额-MP':\"sum\",\\\n",
    "                                                          '3日广告付费金额-MP':\"sum\",\\\n",
    "                                                          '次留数-MP':\"sum\"})\n",
    "    pd_groupby=pd_groupby.rename(columns={'下载链接':'计划个数'})\n",
    "    pd_groupby['首日ROI']=round(pd_groupby['首日广告付费金额-MP']/pd_groupby['消耗']*100,2)\n",
    "    pd_groupby['3日ROI']=round(pd_groupby['3日广告付费金额-MP']/pd_groupby['消耗']*100,2)\n",
    "    pd_groupby['次留率']=round(pd_groupby['次留数-MP']/pd_groupby['消耗']*100,2)\n",
    "    return pd_groupby\n",
    "    \n",
    "data['创建日期']=data['创建时间'].str.split(' ',expand=True)[0]\n",
    "data['创建时间点']=data['创建时间'].str.split(' ',expand=True)[1]\n",
    "data['更新日期']=data['更新时间'].str.split(' ',expand=True)[0]\n",
    "data['更新时间点']=data['更新时间'].str.split(' ',expand=True)[1]\n",
    "    \n",
    "gongju_groupby=jihua_groupby(data,['投放场景','一键起量'])\n",
    "youxi_groupby=jihua_groupby(data,['游戏'])\n",
    "zhanghu_groupby=jihua_groupby(data,['游戏','账户名'])\n",
    "print(gongju_groupby)\n",
    "\n",
    "\n",
    "\n",
    "\n",
    "writer=pd.ExcelWriter(OUTPUT_LOC)\n",
    "gongju_groupby.to_excel(writer,'gongju')\n",
    "youxi_groupby.to_excel(writer,'youxi')\n",
    "zhanghu_groupby.to_excel(writer,'账户')\n",
    "writer.save()\n",
    "print(\"done\")\n",
    "\n"
   ]
  },
  {
   "cell_type": "code",
   "execution_count": 6,
   "id": "e6176db6-c80d-49db-92d7-cdb7278f5223",
   "metadata": {},
   "outputs": [
    {
     "name": "stdout",
     "output_type": "stream",
     "text": [
      "done\n"
     ]
    }
   ],
   "source": [
    "# 创意\n",
    "\n",
    "\n",
    "FILE_NAME=\"chuangyi-221118\"\n",
    "DATA_LOC=\"data/\"+FILE_NAME+\".csv\"\n",
    "OUTPUT_LOC=\"output/out-\"+FILE_NAME+\".xlsx\"\n",
    "\n",
    "import pandas as pd\n",
    "import numpy as np\n",
    "\n",
    "\n",
    "data=pd.read_csv(DATA_LOC,encoding='GB18030')\n",
    "\n",
    "#gongju_pt=pd.pivot_table(data,index=[u'投放场景',u'一键起量'],values=[u'付费数',u'消耗',u'首日广告付费金额-MP'],aggfunc=['count',len,np.sum])\n",
    "\n",
    "\n",
    "\n",
    "def jihua_groupby(group_data,group_index):\n",
    "    pd_groupby=group_data.groupby(group_index).aggregate({'WIFI播放占比':\"count\",\\\n",
    "                                                          '消耗':\"sum\",\\\n",
    "                                                          '激活数':\"sum\",\\\n",
    "                                                          '激活后首日付费金额':\"sum\",\\\n",
    "                                                          '次留数':\"sum\"})\n",
    "    pd_groupby=pd_groupby.rename(columns={'WIFI播放占比':'计划个数'})\n",
    "    pd_groupby['首日ROI']=round(pd_groupby['激活后首日付费金额']/pd_groupby['消耗']*100,2)\n",
    "    pd_groupby['次留率']=round(pd_groupby['次留数']/pd_groupby['激活数']*100,2)\n",
    "    pd_groupby.sort_values(by=['首日ROI','次留率'],ascending=[False,False],inplace=True)\n",
    "    return pd_groupby\n",
    "    \n",
    "data['创建日期']=data['创建时间'].str.split(' ',expand=True)[0]\n",
    "data['创建时间点']=data['创建时间'].str.split(' ',expand=True)[1]\n",
    "data['更新日期']=data['更新时间'].str.split(' ',expand=True)[0]\n",
    "data['更新时间点']=data['更新时间'].str.split(' ',expand=True)[1]\n",
    "    \n",
    "#data['消耗']=data['消耗'].str.replace(',','').astype(float)\n",
    "data['消耗']=data['消耗']\n",
    "#data['激活后首日付费金额']=data['激活后首日付费金额'].str.replace(',','').astype(float)\n",
    "data['激活后首日付费金额']=data['激活后首日付费金额']\n",
    "biaoti_groupby=jihua_groupby(data,['标题'])\n",
    "\n",
    "\n",
    "\n",
    "\n",
    "\n",
    "writer=pd.ExcelWriter(OUTPUT_LOC)\n",
    "\n",
    "biaoti_groupby.to_excel(writer,'标题')\n",
    "\n",
    "writer.save()\n",
    "print(\"done\")\n",
    "\n"
   ]
  },
  {
   "cell_type": "code",
   "execution_count": null,
   "id": "f5e064fc-59be-4453-98bd-7904758c9e2e",
   "metadata": {},
   "outputs": [],
   "source": []
  }
 ],
 "metadata": {
  "kernelspec": {
   "display_name": "Python 3 (ipykernel)",
   "language": "python",
   "name": "python3"
  },
  "language_info": {
   "codemirror_mode": {
    "name": "ipython",
    "version": 3
   },
   "file_extension": ".py",
   "mimetype": "text/x-python",
   "name": "python",
   "nbconvert_exporter": "python",
   "pygments_lexer": "ipython3",
   "version": "3.9.12"
  }
 },
 "nbformat": 4,
 "nbformat_minor": 5
}
