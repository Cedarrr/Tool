{
 "cells": [
  {
   "cell_type": "code",
   "execution_count": 3,
   "metadata": {},
   "outputs": [
    {
     "name": "stderr",
     "output_type": "stream",
     "text": [
      "C:\\Users\\liumeishan1\\AppData\\Local\\Temp\\ipykernel_15008\\3488238855.py:9: FutureWarning: The default value of regex will change from True to False in a future version.\n",
      "  out['素材名']=data['素材名'].str.replace('.mp4','')\n",
      "C:\\Users\\liumeishan1\\AppData\\Local\\Temp\\ipykernel_15008\\3488238855.py:30: FutureWarning: The default value of regex will change from True to False in a future version.\n",
      "  out['素材名']=data['素材名'].str.replace('.mp4','')\n"
     ]
    },
    {
     "name": "stdout",
     "output_type": "stream",
     "text": [
      "2022-10-18 10:36:09.713965 completed\n"
     ]
    }
   ],
   "source": [
    "# 朝霞 素材统计表\n",
    "# 筛选常用列，调整顺序\n",
    " \n",
    "import pandas as pd\n",
    "import datetime\n",
    "def get_sorted(data_loc):\n",
    "    data=pd.read_excel(data_loc)\n",
    "    out=pd.DataFrame()\n",
    "    out['素材名']=data['素材名'].str.replace('.mp4','')\n",
    "    out['关联创意数']=data['关联创意数']\n",
    "    out['点击率']=data['点击率']\n",
    "    out['花费']=data['花费']\n",
    "    out['累计激活成本']=data['累计激活成本']\n",
    "    out['激活数']=data['累计激活数']\n",
    "    out['注册数']=data['累计注册数']\n",
    "    out['注册率']=data['累计注册数']/data['累计激活数']\n",
    "    out['累计充值']=data['累计充值'].str.replace(',','').astype(float)*2\n",
    "    out['首日付费率']=data['首日付费率']\n",
    "    out['首日roi']=data['首日roi'].str.strip('%').astype(float)*2/100\n",
    "    out['3日roi']=data['3日roi'].str.strip('%').astype(float)*2/100\n",
    "    out['7日roi']=data['7日roi'].str.strip('%').astype(float)*2/100\n",
    "    out['次留率（媒体）']=data['次留率（媒体）']\n",
    "    out['播放地址']=data['播放地址']\n",
    "    \n",
    "    return out\n",
    "\n",
    "def get_week(data_loc):\n",
    "    data=pd.read_excel(data_loc)\n",
    "    out=pd.DataFrame()\n",
    "    out['素材名']=data['素材名'].str.replace('.mp4','')\n",
    "    out['消耗']=data['花费'].str.replace(',','').astype(float)\n",
    "    out['曝光数']=data['展示数']\n",
    "    out['点击数']=data['点击数']\n",
    "    out['激活数']=data['累计激活数']\n",
    "    out['注册数']=data['累计注册数']\n",
    "    out['次留数（媒体）']=data['次留数（媒体）']\n",
    "    out['首日付费人数']=data['首日付费数']\n",
    "    out['首日付费金额']=data['首日充值'].str.replace(',','').astype(float)*2\n",
    "    out['F3付费金额']=data['3日充值'].str.replace(',','').astype(float)*2\n",
    "    out['累计付费数']=data['累计付费数']\n",
    "    \n",
    "    return out\n",
    "    \n",
    "\n",
    "    \n",
    "DATA_NAME='zx-sucai-221018'\n",
    "DATA_LOC='data/'+DATA_NAME+'.xlsx'\n",
    "OUTPUT_LOC='output/out-'+DATA_NAME+'.xlsx'\n",
    "today=datetime.datetime.now()\n",
    "\n",
    "sorted_file=get_sorted(DATA_LOC)\n",
    "week_file=get_week(DATA_LOC)\n",
    "                        \n",
    "writer=pd.ExcelWriter(OUTPUT_LOC)\n",
    "sorted_file.to_excel(writer,'sorted',index=False)\n",
    "week_file.to_excel(writer,'week',index=False)                       \n",
    "writer.save()\n",
    "print(today,'completed')"
   ]
  },
  {
   "cell_type": "code",
   "execution_count": 19,
   "metadata": {},
   "outputs": [
    {
     "ename": "OptionError",
     "evalue": "'Pattern matched multiple keys'",
     "output_type": "error",
     "traceback": [
      "\u001b[1;31m---------------------------------------------------------------------------\u001b[0m",
      "\u001b[1;31mOptionError\u001b[0m                               Traceback (most recent call last)",
      "Input \u001b[1;32mIn [19]\u001b[0m, in \u001b[0;36m<cell line: 14>\u001b[1;34m()\u001b[0m\n\u001b[0;32m     12\u001b[0m \u001b[38;5;28;01mimport\u001b[39;00m \u001b[38;5;21;01mdatetime\u001b[39;00m \n\u001b[0;32m     13\u001b[0m today\u001b[38;5;241m=\u001b[39mdatetime\u001b[38;5;241m.\u001b[39mdatetime\u001b[38;5;241m.\u001b[39mnow()\n\u001b[1;32m---> 14\u001b[0m \u001b[43mpd\u001b[49m\u001b[38;5;241;43m.\u001b[39;49m\u001b[43mset_option\u001b[49m\u001b[43m(\u001b[49m\u001b[38;5;124;43m'\u001b[39;49m\u001b[38;5;124;43mmax_row\u001b[39;49m\u001b[38;5;124;43m'\u001b[39;49m\u001b[43m,\u001b[49m\u001b[38;5;241;43m100\u001b[39;49m\u001b[43m)\u001b[49m\n\u001b[0;32m     16\u001b[0m \u001b[38;5;28;01mdef\u001b[39;00m \u001b[38;5;21mget_txt\u001b[39m(wenben_loc):\n\u001b[0;32m     17\u001b[0m     wenben \u001b[38;5;241m=\u001b[39m []\n",
      "File \u001b[1;32mD:\\soft\\anaconda-4\\lib\\site-packages\\pandas\\_config\\config.py:256\u001b[0m, in \u001b[0;36mCallableDynamicDoc.__call__\u001b[1;34m(self, *args, **kwds)\u001b[0m\n\u001b[0;32m    255\u001b[0m \u001b[38;5;28;01mdef\u001b[39;00m \u001b[38;5;21m__call__\u001b[39m(\u001b[38;5;28mself\u001b[39m, \u001b[38;5;241m*\u001b[39margs, \u001b[38;5;241m*\u001b[39m\u001b[38;5;241m*\u001b[39mkwds):\n\u001b[1;32m--> 256\u001b[0m     \u001b[38;5;28;01mreturn\u001b[39;00m \u001b[38;5;28mself\u001b[39m\u001b[38;5;241m.\u001b[39m\u001b[38;5;18m__func__\u001b[39m(\u001b[38;5;241m*\u001b[39margs, \u001b[38;5;241m*\u001b[39m\u001b[38;5;241m*\u001b[39mkwds)\n",
      "File \u001b[1;32mD:\\soft\\anaconda-4\\lib\\site-packages\\pandas\\_config\\config.py:149\u001b[0m, in \u001b[0;36m_set_option\u001b[1;34m(*args, **kwargs)\u001b[0m\n\u001b[0;32m    146\u001b[0m     \u001b[38;5;28;01mraise\u001b[39;00m \u001b[38;5;167;01mTypeError\u001b[39;00m(\u001b[38;5;124mf\u001b[39m\u001b[38;5;124m'\u001b[39m\u001b[38;5;124m_set_option() got an unexpected keyword argument \u001b[39m\u001b[38;5;124m\"\u001b[39m\u001b[38;5;132;01m{\u001b[39;00mkwarg\u001b[38;5;132;01m}\u001b[39;00m\u001b[38;5;124m\"\u001b[39m\u001b[38;5;124m'\u001b[39m)\n\u001b[0;32m    148\u001b[0m \u001b[38;5;28;01mfor\u001b[39;00m k, v \u001b[38;5;129;01min\u001b[39;00m \u001b[38;5;28mzip\u001b[39m(args[::\u001b[38;5;241m2\u001b[39m], args[\u001b[38;5;241m1\u001b[39m::\u001b[38;5;241m2\u001b[39m]):\n\u001b[1;32m--> 149\u001b[0m     key \u001b[38;5;241m=\u001b[39m \u001b[43m_get_single_key\u001b[49m\u001b[43m(\u001b[49m\u001b[43mk\u001b[49m\u001b[43m,\u001b[49m\u001b[43m \u001b[49m\u001b[43msilent\u001b[49m\u001b[43m)\u001b[49m\n\u001b[0;32m    151\u001b[0m     o \u001b[38;5;241m=\u001b[39m _get_registered_option(key)\n\u001b[0;32m    152\u001b[0m     \u001b[38;5;28;01mif\u001b[39;00m o \u001b[38;5;129;01mand\u001b[39;00m o\u001b[38;5;241m.\u001b[39mvalidator:\n",
      "File \u001b[1;32mD:\\soft\\anaconda-4\\lib\\site-packages\\pandas\\_config\\config.py:116\u001b[0m, in \u001b[0;36m_get_single_key\u001b[1;34m(pat, silent)\u001b[0m\n\u001b[0;32m    114\u001b[0m     \u001b[38;5;28;01mraise\u001b[39;00m OptionError(\u001b[38;5;124mf\u001b[39m\u001b[38;5;124m\"\u001b[39m\u001b[38;5;124mNo such keys(s): \u001b[39m\u001b[38;5;132;01m{\u001b[39;00m\u001b[38;5;28mrepr\u001b[39m(pat)\u001b[38;5;132;01m}\u001b[39;00m\u001b[38;5;124m\"\u001b[39m)\n\u001b[0;32m    115\u001b[0m \u001b[38;5;28;01mif\u001b[39;00m \u001b[38;5;28mlen\u001b[39m(keys) \u001b[38;5;241m>\u001b[39m \u001b[38;5;241m1\u001b[39m:\n\u001b[1;32m--> 116\u001b[0m     \u001b[38;5;28;01mraise\u001b[39;00m OptionError(\u001b[38;5;124m\"\u001b[39m\u001b[38;5;124mPattern matched multiple keys\u001b[39m\u001b[38;5;124m\"\u001b[39m)\n\u001b[0;32m    117\u001b[0m key \u001b[38;5;241m=\u001b[39m keys[\u001b[38;5;241m0\u001b[39m]\n\u001b[0;32m    119\u001b[0m \u001b[38;5;28;01mif\u001b[39;00m \u001b[38;5;129;01mnot\u001b[39;00m silent:\n",
      "\u001b[1;31mOptionError\u001b[0m: 'Pattern matched multiple keys'"
     ]
    }
   ],
   "source": [
    "# 朝霞 操作日志\n",
    "# 分人每个人/all \n",
    "# 1、【操作对象类型】：广告计划。【操作动作】：新建程序化创意\n",
    "# - 创意标签、创意方式、图片、创意分类、是否暂停、副标题、标题\n",
    "# 2、【操作对象类型】：广告计划。【操作动作】：新建\n",
    "# - 各个计划的位置\n",
    "# 标题使用率\n",
    "# tag 使用率\n",
    "# 定向情况\n",
    "\n",
    "import pandas as pd \n",
    "import datetime \n",
    "today=datetime.datetime.now()\n",
    "pd.set_option('max_row',100)\n",
    "\n",
    "def get_txt(wenben_loc):\n",
    "    wenben = []\n",
    "    txt = open(wenben_loc, encoding='utf-8').readlines()\n",
    "    for line in txt:\n",
    "        line = line.replace('\\n', '')\n",
    "        wenben.append(line)\n",
    "    return wenben\n",
    "\n",
    "def get_cell_split(bf_df,number):\n",
    "    cell_dict={}\n",
    "    \n",
    "    cell_splited=pd.DataFrame()\n",
    "    cell_splited['target']=bf_df.str.split('\\r\\n',expand=True)[number]\n",
    "    # 仅在第一个：处分割\n",
    "    cell_splited['target']=cell_splited['target'].str.split(':',1,expand=True)[1]    \n",
    "    \n",
    "    return cell_splited['target']\n",
    "\n",
    "\n",
    "def get_rizhi_chengxuhua(data):\n",
    "\n",
    "    data_filtered=data.loc[(data['操作对象类型']=='广告计划')&(data['操作动作']=='新建程序化创意')]\n",
    "\n",
    "    data_filtered_out=pd.DataFrame()\n",
    "    data_filtered_out['操作ID']=data_filtered['操作ID']\n",
    "    data_filtered_out['操作时间']=data_filtered['操作时间']\n",
    "    data_filtered_out['优化师']=data_filtered['优化师']\n",
    "    data_filtered_out['操作对象']=data_filtered['操作对象']\n",
    "    data_filtered_out['创意标签']=get_cell_split(data_filtered['操作结果'],0)\n",
    "    data_filtered_out['创意方式']=get_cell_split(data_filtered['操作结果'],1)\n",
    "    #data_filtered_out['图片']=get_cell_split(data_filtered['操作结果'],2)\n",
    "    #data_filtered_out['创意分类']=get_cell_split(data_filtered['操作结果'],3)\n",
    "    #data_filtered_out['是否暂停']=get_cell_split(data_filtered['操作结果'],4)\n",
    "    data_filtered_out['副标题']=get_cell_split(data_filtered['操作结果'],5)\n",
    "    data_filtered_out['标题']=get_cell_split(data_filtered['操作结果'],6)\n",
    "\n",
    "    print(\"新建程序化创意 过滤完成\")\n",
    "    return data_filtered_out\n",
    "\n",
    "def get_rizhi_dingxiang(data,dingxiang_txt):\n",
    "    \n",
    "    data_filtered=data.loc[(data['操作对象类型']=='广告计划')&(data['操作动作']=='新建')]\n",
    "    #print(data_filtered['操作结果'].iloc[0])\n",
    "    data_filtered_out=pd.DataFrame()\n",
    "    df_dict={}\n",
    "    \n",
    "    # data_filtered_out['操作ID']=data_filtered['操作ID']\n",
    "    # data_filtered_out['操作时间']=data_filtered['操作时间']\n",
    "    # data_filtered_out['优化师']=data_filtered['优化师']\n",
    "    # data_filtered_out['操作对象']=data_filtered['操作对象']\n",
    "    \n",
    "    for row in data_filtered_out.iterrows():\n",
    "        cell=data_filtered_out['操作结果'].split(\"\\r\\n\")\n",
    "    a_dict={}\n",
    "    for line in cell:\n",
    "        key=line.split(\": \")[0]\n",
    "        value=line.split(\": \")[1]\n",
    "        a_dict[key]=value\n",
    "        my_list=[a_dict]\n",
    "        my_df=pd.DataFrame(my_list).T\n",
    "    print(my_df)\n",
    "    \n",
    "    for i in range(len(dingxiang_txt)):\n",
    "        col_name=dingxiang_txt[i]\n",
    "        data_filtered_out[col_name]=get_cell_split(data_filtered['操作结果'],i)\n",
    "\n",
    "    print(\"新建计划 过滤完成\")\n",
    "    return data_filtered_out\n",
    "\n",
    "RIZHI_NAME='zx-rizhi'\n",
    "RIZHI_LOC='data/'+RIZHI_NAME+'.xlsx'\n",
    "OUTPUT_LOC='output/out-'+RIZHI_NAME+'.xlsx'\n",
    "\n",
    "WENBEN_LOC='data/rizhi-dingxiang.txt'\n",
    "\n",
    "data=pd.read_excel(RIZHI_LOC)\n",
    "\n",
    "dingxiang=get_txt(WENBEN_LOC)\n",
    "\n",
    "# 程序化\n",
    "#out_chengxuhua=get_rizhi_chengxuhua(data)\n",
    "\n",
    "out_dingxiang=get_rizhi_dingxiang(data,dingxiang)\n",
    "\n",
    "writer=pd.ExcelWriter(OUTPUT_LOC)\n",
    "out_chengxuhua.to_excel(writer,'程序化-all',index=False)\n",
    "out_dingxiang.to_excel(writer,'新建-all',index=False)\n",
    "writer.save()\n",
    "print(today,'completed')\n"
   ]
  },
  {
   "cell_type": "code",
   "execution_count": 70,
   "metadata": {},
   "outputs": [
    {
     "name": "stdout",
     "output_type": "stream",
     "text": [
      "done\n"
     ]
    }
   ],
   "source": [
    "RIZHI_NAME='zx-rizhi'\n",
    "RIZHI_LOC='data/'+RIZHI_NAME+'.xlsx'\n",
    "OUTPUT_LOC='output/out-'+RIZHI_NAME+'.xlsx'\n",
    "\n",
    "WENBEN_LOC='data/rizhi-dingxiang.txt'\n",
    "\n",
    "data=pd.read_excel(RIZHI_LOC)\n",
    "print('done')"
   ]
  },
  {
   "cell_type": "code",
   "execution_count": 78,
   "metadata": {},
   "outputs": [
    {
     "data": {
      "text/plain": [
       "'广告计划名称: 8721006-+220928-杨卫卫-萌新刷黑风寨-+1003_21:25--7\\r\\n投放范围: 默认\\r\\n广告分类: 售卖\\r\\n应用下载类型: iOS\\r\\n应用包名: com.ycgame.t11pub\\r\\n转化目标: 付费\\r\\n地域: 省市\\r\\n省市定向: 北京,天津,河北,山西,内蒙古,辽宁,吉林,黑龙江,上海,江苏,浙江,安徽,福建,江西,山东,河南,湖北,湖南,广东,广西,海南,重庆,四川,贵州,云南,西藏,陕西,甘肃,青海,宁夏,新疆\\r\\n位置类型: 正在该地区的用户\\r\\n性别: 男\\r\\n年龄: 24-30,31-40,41-49\\r\\n自定义人群包：排除: pc包-5/11,2022清明五一活动抖音低价值排除用户,2022清明五一踏青活动游戏低消排除人群,游戏行业-仙侠负向人群\\r\\n平台类型: iOS\\r\\n设备类型: 智能手机\\r\\niOS版本: IOS 8.0及以上\\r\\n网络类型: WIFI,4G,5G\\r\\n过滤已转化: APP维度\\r\\n过滤已转化时间: 三个月\\r\\n竞价策略: 稳定成本-匀速\\r\\n付费方式: 按展示付费（oCPM）\\r\\n点击链接: https://lnk0.com/hABd0k?action=none&chn=toutiao&idfa=__IDFA__&idfa_md5=__IDFA_MD5__&caid=__CAID1__&adid=__AID__&adcampaign=__AID_NAME__&adcreative=__CID__&adgroup=__CAMPAIGN_ID__&adcreativename=__CID_NAME__&adgroupname=__CAMPAIGN_NAME__&osversion=__OS__&ip=__IP__&clicktime=__TS__&callback=__CALLBACK_PARAM__&useragent=__UA__&match_type=0&channelapp=__CSITE__&siteid=__UNION_SITE__&convertid=__CONVERT_ID__&ctype=__CTYPE__&requestid=__REQUEST_ID__&caid1_md5=__CAID1_MD5__&advertiser_id=__ADVERTISER_ID__&td_subid=8721006\\r\\noCPM出价: 0.15元\\r\\n数据回传方式: 事件管理\\r\\n快投定向拓展: 开启\\r\\n审核状态: 计划新建\\r\\n继承优质计划: 不启用\\r\\n预算: 不限\\r\\ncpa出价类型: 目标转化出价\\r\\n深度优化方式: 每次付费\\r\\n投放内容: 下载链接\\r\\n下载链接: https://itunes.apple.com/cn/app/id1205376082\\r\\n搜索快投关键词: 开启\\r\\n计划频控: 0\\r\\n广告位大类: 首选媒体\\r\\n是否暂停: 启用\\r\\n应用包id: 57962532870315242\\r\\n投放时间: 从今天起长期投放\\r\\n投放场景: 最大转化投放\\r\\n广告位置: 首选媒体位置：今日头条-信息流、西瓜视频、抖音\\r\\n计划状态: 新建计划\\r\\n监测链接数据发送方式: 服务端下发\\r\\n监测链接类型: 2'"
      ]
     },
     "execution_count": 78,
     "metadata": {},
     "output_type": "execute_result"
    }
   ],
   "source": [
    "data['操作结果'].iloc[712]"
   ]
  },
  {
   "cell_type": "code",
   "execution_count": 82,
   "metadata": {},
   "outputs": [
    {
     "name": "stdout",
     "output_type": "stream",
     "text": [
      "广告计划名称: 8721006-+220928-杨卫卫-萌新刷黑风寨-+1003_21:25--7\n",
      "投放范围: 默认\n",
      "广告分类: 售卖\n",
      "应用下载类型: iOS\n",
      "应用包名: com.ycgame.t11pub\n",
      "转化目标: 付费\n",
      "地域: 省市\n",
      "省市定向: 北京,天津,河北,山西,内蒙古,辽宁,吉林,黑龙江,上海,江苏,浙江,安徽,福建,江西,山东,河南,湖北,湖南,广东,广西,海南,重庆,四川,贵州,云南,西藏,陕西,甘肃,青海,宁夏,新疆\n",
      "位置类型: 正在该地区的用户\n",
      "性别: 男\n",
      "年龄: 24-30,31-40,41-49\n",
      "自定义人群包：排除: pc包-5/11,2022清明五一活动抖音低价值排除用户,2022清明五一踏青活动游戏低消排除人群,游戏行业-仙侠负向人群\n",
      "平台类型: iOS\n",
      "设备类型: 智能手机\n",
      "iOS版本: IOS 8.0及以上\n",
      "网络类型: WIFI,4G,5G\n",
      "过滤已转化: APP维度\n",
      "过滤已转化时间: 三个月\n",
      "竞价策略: 稳定成本-匀速\n",
      "付费方式: 按展示付费（oCPM）\n",
      "点击链接: https://lnk0.com/hABd0k?action=none&chn=toutiao&idfa=__IDFA__&idfa_md5=__IDFA_MD5__&caid=__CAID1__&adid=__AID__&adcampaign=__AID_NAME__&adcreative=__CID__&adgroup=__CAMPAIGN_ID__&adcreativename=__CID_NAME__&adgroupname=__CAMPAIGN_NAME__&osversion=__OS__&ip=__IP__&clicktime=__TS__&callback=__CALLBACK_PARAM__&useragent=__UA__&match_type=0&channelapp=__CSITE__&siteid=__UNION_SITE__&convertid=__CONVERT_ID__&ctype=__CTYPE__&requestid=__REQUEST_ID__&caid1_md5=__CAID1_MD5__&advertiser_id=__ADVERTISER_ID__&td_subid=8721006\n",
      "oCPM出价: 0.15元\n",
      "数据回传方式: 事件管理\n",
      "快投定向拓展: 开启\n",
      "审核状态: 计划新建\n",
      "继承优质计划: 不启用\n",
      "预算: 不限\n",
      "cpa出价类型: 目标转化出价\n",
      "深度优化方式: 每次付费\n",
      "投放内容: 下载链接\n",
      "下载链接: https://itunes.apple.com/cn/app/id1205376082\n",
      "搜索快投关键词: 开启\n",
      "计划频控: 0\n",
      "广告位大类: 首选媒体\n",
      "是否暂停: 启用\n",
      "应用包id: 57962532870315242\n",
      "投放时间: 从今天起长期投放\n",
      "投放场景: 最大转化投放\n",
      "广告位置: 首选媒体位置：今日头条-信息流、西瓜视频、抖音\n",
      "计划状态: 新建计划\n",
      "监测链接数据发送方式: 服务端下发\n",
      "监测链接类型: 2\n"
     ]
    }
   ],
   "source": [
    "print(data['操作结果'].iloc[712])"
   ]
  },
  {
   "cell_type": "code",
   "execution_count": 83,
   "metadata": {},
   "outputs": [
    {
     "name": "stdout",
     "output_type": "stream",
     "text": [
      "广告计划名称: 8610064--220314-董芳婧-首次英雄本--1004_09:27--4\n",
      "投放范围: 默认\n",
      "广告分类: 售卖\n",
      "应用下载类型: iOS\n",
      "应用包名: com.ycgame.t11pub\n",
      "转化目标: 付费\n",
      "地域: 不限\n",
      "性别: 男\n",
      "年龄: 24-30,31-40,41-49\n",
      "自定义人群包：排除: 2022暑期游戏低消排除人群-扩展,2022暑期游戏无感人群-扩展,暑期游戏抖音低价值排除用户-扩展\n",
      "平台类型: iOS\n",
      "过滤已转化: APP维度\n",
      "过滤已转化时间: 三个月\n",
      "竞价策略: 稳定成本-匀速\n",
      "付费方式: 按展示付费（oCPM）\n",
      "点击链接: https://lnk0.com/BBpU58?action=none&chn=toutiao&idfa=__IDFA__&idfa_md5=__IDFA_MD5__&caid=__CAID1__&adid=__AID__&adcampaign=__AID_NAME__&adcreative=__CID__&adgroup=__CAMPAIGN_ID__&adcreativename=__CID_NAME__&adgroupname=__CAMPAIGN_NAME__&osversion=__OS__&ip=__IP__&clicktime=__TS__&callback=__CALLBACK_PARAM__&useragent=__UA__&match_type=0&channelapp=__CSITE__&siteid=__UNION_SITE__&convertid=__CONVERT_ID__&ctype=__CTYPE__&requestid=__REQUEST_ID__&caid1_md5=__CAID1_MD5__&td_subid=8610064\n",
      "oCPM出价: 239.19元\n",
      "数据回传方式: 事件管理\n",
      "快投定向拓展: 开启\n",
      "审核状态: 计划新建\n",
      "继承优质计划: 不启用\n",
      "预算: 不限\n",
      "cpa出价类型: 目标转化出价\n",
      "深度优化方式: 每次付费\n",
      "投放内容: 下载链接\n",
      "下载链接: https://itunes.apple.com/cn/app/id1205376082\n",
      "搜索快投关键词: 开启\n",
      "计划频控: 0\n",
      "广告位大类: 首选媒体\n",
      "是否暂停: 启用\n",
      "应用包id: 57962532870315242\n",
      "投放时间: 从今天起长期投放\n",
      "投放场景: 最大转化投放\n",
      "广告位置: 首选媒体位置：今日头条-信息流、抖音\n",
      "计划状态: 新建计划\n",
      "监测链接数据发送方式: 服务端下发\n",
      "监测链接类型: 2\n"
     ]
    }
   ],
   "source": [
    "print(data['操作结果'].iloc[74])"
   ]
  },
  {
   "cell_type": "code",
   "execution_count": 51,
   "metadata": {},
   "outputs": [
    {
     "name": "stdout",
     "output_type": "stream",
     "text": [
      "广告计划名称 8610066--220923-余福承-你是干嘛地的？--1004_09:27--6\n",
      "投放范围\n"
     ]
    },
    {
     "ename": "KeyError",
     "evalue": "'广告计划名称'",
     "output_type": "error",
     "traceback": [
      "\u001b[1;31m---------------------------------------------------------------------------\u001b[0m",
      "\u001b[1;31mKeyError\u001b[0m                                  Traceback (most recent call last)",
      "File \u001b[1;32mD:\\soft\\anaconda-4\\lib\\site-packages\\pandas\\core\\indexes\\base.py:3621\u001b[0m, in \u001b[0;36mIndex.get_loc\u001b[1;34m(self, key, method, tolerance)\u001b[0m\n\u001b[0;32m   3620\u001b[0m \u001b[38;5;28;01mtry\u001b[39;00m:\n\u001b[1;32m-> 3621\u001b[0m     \u001b[38;5;28;01mreturn\u001b[39;00m \u001b[38;5;28;43mself\u001b[39;49m\u001b[38;5;241;43m.\u001b[39;49m\u001b[43m_engine\u001b[49m\u001b[38;5;241;43m.\u001b[39;49m\u001b[43mget_loc\u001b[49m\u001b[43m(\u001b[49m\u001b[43mcasted_key\u001b[49m\u001b[43m)\u001b[49m\n\u001b[0;32m   3622\u001b[0m \u001b[38;5;28;01mexcept\u001b[39;00m \u001b[38;5;167;01mKeyError\u001b[39;00m \u001b[38;5;28;01mas\u001b[39;00m err:\n",
      "File \u001b[1;32mD:\\soft\\anaconda-4\\lib\\site-packages\\pandas\\_libs\\index.pyx:136\u001b[0m, in \u001b[0;36mpandas._libs.index.IndexEngine.get_loc\u001b[1;34m()\u001b[0m\n",
      "File \u001b[1;32mD:\\soft\\anaconda-4\\lib\\site-packages\\pandas\\_libs\\index.pyx:163\u001b[0m, in \u001b[0;36mpandas._libs.index.IndexEngine.get_loc\u001b[1;34m()\u001b[0m\n",
      "File \u001b[1;32mpandas\\_libs\\hashtable_class_helper.pxi:5198\u001b[0m, in \u001b[0;36mpandas._libs.hashtable.PyObjectHashTable.get_item\u001b[1;34m()\u001b[0m\n",
      "File \u001b[1;32mpandas\\_libs\\hashtable_class_helper.pxi:5206\u001b[0m, in \u001b[0;36mpandas._libs.hashtable.PyObjectHashTable.get_item\u001b[1;34m()\u001b[0m\n",
      "\u001b[1;31mKeyError\u001b[0m: '广告计划名称'",
      "\nThe above exception was the direct cause of the following exception:\n",
      "\u001b[1;31mKeyError\u001b[0m                                  Traceback (most recent call last)",
      "Input \u001b[1;32mIn [51]\u001b[0m, in \u001b[0;36m<cell line: 12>\u001b[1;34m()\u001b[0m\n\u001b[0;32m     18\u001b[0m     value\u001b[38;5;241m=\u001b[39mline\u001b[38;5;241m.\u001b[39msplit(\u001b[38;5;124m\"\u001b[39m\u001b[38;5;124m: \u001b[39m\u001b[38;5;124m\"\u001b[39m)[\u001b[38;5;241m1\u001b[39m]\n\u001b[0;32m     19\u001b[0m     \u001b[38;5;28mprint\u001b[39m(key,value)\n\u001b[1;32m---> 20\u001b[0m     \u001b[43mdingxiang_df\u001b[49m\u001b[43m[\u001b[49m\u001b[43mkey\u001b[49m\u001b[43m]\u001b[49m\u001b[38;5;241m.\u001b[39miloc[i]\u001b[38;5;241m=\u001b[39mvalue\n\u001b[0;32m     21\u001b[0m \u001b[38;5;66;03m#     a_dict[key]=value\u001b[39;00m\n\u001b[0;32m     22\u001b[0m \u001b[38;5;66;03m# my_list=[a_dict]\u001b[39;00m\n\u001b[0;32m     23\u001b[0m \u001b[38;5;66;03m# my_df=pd.DataFrame(my_list)\u001b[39;00m\n\u001b[0;32m     25\u001b[0m i\u001b[38;5;241m=\u001b[39mi\u001b[38;5;241m+\u001b[39m\u001b[38;5;241m1\u001b[39m\n",
      "File \u001b[1;32mD:\\soft\\anaconda-4\\lib\\site-packages\\pandas\\core\\frame.py:3505\u001b[0m, in \u001b[0;36mDataFrame.__getitem__\u001b[1;34m(self, key)\u001b[0m\n\u001b[0;32m   3503\u001b[0m \u001b[38;5;28;01mif\u001b[39;00m \u001b[38;5;28mself\u001b[39m\u001b[38;5;241m.\u001b[39mcolumns\u001b[38;5;241m.\u001b[39mnlevels \u001b[38;5;241m>\u001b[39m \u001b[38;5;241m1\u001b[39m:\n\u001b[0;32m   3504\u001b[0m     \u001b[38;5;28;01mreturn\u001b[39;00m \u001b[38;5;28mself\u001b[39m\u001b[38;5;241m.\u001b[39m_getitem_multilevel(key)\n\u001b[1;32m-> 3505\u001b[0m indexer \u001b[38;5;241m=\u001b[39m \u001b[38;5;28;43mself\u001b[39;49m\u001b[38;5;241;43m.\u001b[39;49m\u001b[43mcolumns\u001b[49m\u001b[38;5;241;43m.\u001b[39;49m\u001b[43mget_loc\u001b[49m\u001b[43m(\u001b[49m\u001b[43mkey\u001b[49m\u001b[43m)\u001b[49m\n\u001b[0;32m   3506\u001b[0m \u001b[38;5;28;01mif\u001b[39;00m is_integer(indexer):\n\u001b[0;32m   3507\u001b[0m     indexer \u001b[38;5;241m=\u001b[39m [indexer]\n",
      "File \u001b[1;32mD:\\soft\\anaconda-4\\lib\\site-packages\\pandas\\core\\indexes\\base.py:3623\u001b[0m, in \u001b[0;36mIndex.get_loc\u001b[1;34m(self, key, method, tolerance)\u001b[0m\n\u001b[0;32m   3621\u001b[0m     \u001b[38;5;28;01mreturn\u001b[39;00m \u001b[38;5;28mself\u001b[39m\u001b[38;5;241m.\u001b[39m_engine\u001b[38;5;241m.\u001b[39mget_loc(casted_key)\n\u001b[0;32m   3622\u001b[0m \u001b[38;5;28;01mexcept\u001b[39;00m \u001b[38;5;167;01mKeyError\u001b[39;00m \u001b[38;5;28;01mas\u001b[39;00m err:\n\u001b[1;32m-> 3623\u001b[0m     \u001b[38;5;28;01mraise\u001b[39;00m \u001b[38;5;167;01mKeyError\u001b[39;00m(key) \u001b[38;5;28;01mfrom\u001b[39;00m \u001b[38;5;21;01merr\u001b[39;00m\n\u001b[0;32m   3624\u001b[0m \u001b[38;5;28;01mexcept\u001b[39;00m \u001b[38;5;167;01mTypeError\u001b[39;00m:\n\u001b[0;32m   3625\u001b[0m     \u001b[38;5;66;03m# If we have a listlike key, _check_indexing_error will raise\u001b[39;00m\n\u001b[0;32m   3626\u001b[0m     \u001b[38;5;66;03m#  InvalidIndexError. Otherwise we fall through and re-raise\u001b[39;00m\n\u001b[0;32m   3627\u001b[0m     \u001b[38;5;66;03m#  the TypeError.\u001b[39;00m\n\u001b[0;32m   3628\u001b[0m     \u001b[38;5;28mself\u001b[39m\u001b[38;5;241m.\u001b[39m_check_indexing_error(key)\n",
      "\u001b[1;31mKeyError\u001b[0m: '广告计划名称'"
     ]
    }
   ],
   "source": [
    "import pandas as pd \n",
    "RIZHI_NAME='zx-rizhi'\n",
    "RIZHI_LOC='data/'+RIZHI_NAME+'.xlsx'\n",
    "\n",
    "\n",
    "data=pd.read_excel(RIZHI_LOC)\n",
    "\n",
    "dingxiang_df=pd.DataFrame()\n",
    "data_filtered=data.loc[(data['操作对象类型']=='广告计划')&(data['操作动作']=='新建')]\n",
    "\n",
    "i=0\n",
    "for idx,lines in data_filtered.iterrows():\n",
    "    cell=lines['操作结果'].split(\"\\r\\n\")\n",
    "    #a_dict={}\n",
    "    \n",
    "    for line in cell:\n",
    "        key=line.split(\": \")[0]\n",
    "        value=line.split(\": \")[1]\n",
    "        print(key,value)\n",
    "        dingxiang_df[key].iloc[i]=value\n",
    "    #     a_dict[key]=value\n",
    "    # my_list=[a_dict]\n",
    "    # my_df=pd.DataFrame(my_list)\n",
    "    \n",
    "    i=i+1\n",
    "print(dingxiang_df)\n",
    "\n",
    "    \n",
    " # 列标题是外层键值，内层是list\n"
   ]
  },
  {
   "cell_type": "code",
   "execution_count": 49,
   "metadata": {},
   "outputs": [
    {
     "name": "stdout",
     "output_type": "stream",
     "text": [
      "3.9.12 (main, Apr  4 2022, 05:22:27) [MSC v.1916 64 bit (AMD64)]\n"
     ]
    }
   ],
   "source": [
    "import sys\n",
    "print(sys.version)"
   ]
  },
  {
   "cell_type": "code",
   "execution_count": null,
   "metadata": {},
   "outputs": [],
   "source": []
  }
 ],
 "metadata": {
  "kernelspec": {
   "display_name": "Python 3 (ipykernel)",
   "language": "python",
   "name": "python3"
  },
  "language_info": {
   "codemirror_mode": {
    "name": "ipython",
    "version": 3
   },
   "file_extension": ".py",
   "mimetype": "text/x-python",
   "name": "python",
   "nbconvert_exporter": "python",
   "pygments_lexer": "ipython3",
   "version": "3.9.12"
  }
 },
 "nbformat": 4,
 "nbformat_minor": 4
}
