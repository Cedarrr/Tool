{
 "cells": [
  {
   "cell_type": "code",
   "execution_count": null,
   "id": "288c8dd5-ec9e-4b48-ab8a-46bb997aeb26",
   "metadata": {},
   "outputs": [],
   "source": [
    "import pandas as pd\n",
    "\n",
    "sucai_name='zhaoxia-sucai.xlsx'\n",
    "\n",
    "DATA_LOC='data/'+sucai_name\n",
    "OUTPUT_LOC='output/test-'+sucai_name\n",
    "\n",
    "data=pd.read_excel(DATA_LOC)\n",
    "\n",
    "\n",
    "\n",
    "out=round(data.describe(),1)\n",
    "\n",
    "\n",
    "\n",
    "\n",
    "\n",
    "writer=pd.ExcelWriter(OUTPUT_LOC)\n",
    "out.to_excel(writer,'all')\n",
    "writer.save()\n",
    "\n",
    "\n",
    "print(\"done\")"
   ]
  }
 ],
 "metadata": {
  "kernelspec": {
   "display_name": "Python 3 (ipykernel)",
   "language": "python",
   "name": "python3"
  },
  "language_info": {
   "codemirror_mode": {
    "name": "ipython",
    "version": 3
   },
   "file_extension": ".py",
   "mimetype": "text/x-python",
   "name": "python",
   "nbconvert_exporter": "python",
   "pygments_lexer": "ipython3",
   "version": "3.9.12"
  }
 },
 "nbformat": 4,
 "nbformat_minor": 5
}
