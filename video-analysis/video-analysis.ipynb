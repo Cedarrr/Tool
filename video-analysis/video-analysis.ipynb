{
 "cells": [
  {
   "cell_type": "code",
   "execution_count": 51,
   "metadata": {
    "scrolled": true,
    "tags": []
   },
   "outputs": [
    {
     "name": "stdout",
     "output_type": "stream",
     "text": [
      "done\n"
     ]
    }
   ],
   "source": [
    "# 行专列：https://www.cnblogs.com/traditional/p/11967360.html\n",
    "# 计算行列总和：https://blog.csdn.net/weixin_43745169/article/details/103372098\n",
    "\n",
    "import pandas as pd\n",
    "#from Texttable import texttable\n",
    "\n",
    "#import xlwt as xw\n",
    "\n",
    "START_DATE=220919\n",
    "END_DATE=220925\n",
    "DESIGNER=str(START_DATE)+'-'+str(END_DATE)\n",
    "\n",
    "data=pd.read_excel(\"video-data.xlsx\")\n",
    "data=data[data['制作时间']>=START_DATE]\n",
    "data=data[data['制作时间']<=END_DATE]\n",
    "\n",
    "data=data.rename(columns={'设计师':DESIGNER})\n",
    "\n",
    "writer=pd.ExcelWriter('output.xlsx')\n",
    "\n",
    "#get data_class(in_data,column_name):\n",
    "column_name='素材类型'\n",
    "in_data=data\n",
    "in_data=in_data.groupby([DESIGNER,column_name])\n",
    "name_data=in_data['素材名'].apply(lambda x: \"、\".join(list(set(x.str.cat(sep=',').split(','))))).unstack()\n",
    "count_data=in_data['素材名'].count().unstack()\n",
    "count_data['总计']=count_data.apply(lambda x: x.sum(),axis=1)\n",
    "count_data.loc['总计']=count_data.apply(lambda x: x.sum(),axis=0)\n",
    "\n",
    "name_data.to_excel(writer,'name')\n",
    "count_data.to_excel(writer,'count')\n",
    "    \n",
    "\n",
    "#data_class(data,'素材类型')\n",
    "\n",
    "\n",
    "writer.save()\n",
    "\n",
    "\n",
    "print('done')"
   ]
  },
  {
   "cell_type": "code",
   "execution_count": 56,
   "metadata": {
    "tags": []
   },
   "outputs": [
    {
     "name": "stderr",
     "output_type": "stream",
     "text": [
      "C:\\Users\\liumeishan1\\AppData\\Local\\Temp\\ipykernel_15988\\3161890875.py:44: FutureWarning: The frame.append method is deprecated and will be removed from pandas in a future version. Use pandas.concat instead.\n",
      "  type_pd=type_pd.append(new)\n"
     ]
    },
    {
     "ename": "TypeError",
     "evalue": "object of type 'float' has no len()",
     "output_type": "error",
     "traceback": [
      "\u001b[1;31m---------------------------------------------------------------------------\u001b[0m",
      "\u001b[1;31mTypeError\u001b[0m                                 Traceback (most recent call last)",
      "Input \u001b[1;32mIn [56]\u001b[0m, in \u001b[0;36m<cell line: 32>\u001b[1;34m()\u001b[0m\n\u001b[0;32m     43\u001b[0m             new[\u001b[38;5;124m'\u001b[39m\u001b[38;5;124mTYPE\u001b[39m\u001b[38;5;124m'\u001b[39m]\u001b[38;5;241m=\u001b[39mTYPE\n\u001b[0;32m     44\u001b[0m     type_pd\u001b[38;5;241m=\u001b[39mtype_pd\u001b[38;5;241m.\u001b[39mappend(new)\n\u001b[1;32m---> 46\u001b[0m     \u001b[43mnew\u001b[49m\u001b[38;5;241;43m.\u001b[39;49m\u001b[43mto_excel\u001b[49m\u001b[43m(\u001b[49m\u001b[43mwriter\u001b[49m\u001b[43m,\u001b[49m\u001b[43msheet_name\u001b[49m\u001b[38;5;241;43m=\u001b[39;49m\u001b[43mTYPE\u001b[49m\u001b[43m,\u001b[49m\u001b[43mindex\u001b[49m\u001b[38;5;241;43m=\u001b[39;49m\u001b[38;5;28;43;01mFalse\u001b[39;49;00m\u001b[43m)\u001b[49m\n\u001b[0;32m     48\u001b[0m type_pd\u001b[38;5;241m.\u001b[39mto_excel(writer,sheet_name\u001b[38;5;241m=\u001b[39m\u001b[38;5;124m'\u001b[39m\u001b[38;5;124mALL\u001b[39m\u001b[38;5;124m'\u001b[39m,index\u001b[38;5;241m=\u001b[39m\u001b[38;5;28;01mFalse\u001b[39;00m)\n\u001b[0;32m     50\u001b[0m \u001b[38;5;66;03m#pt=pd.pivot_table(type_pd,index=[u'素材名',u'媒体',u'端'],aggfunc=np.sum,margins=False)\u001b[39;00m\n",
      "File \u001b[1;32mD:\\soft\\anaconda-4\\lib\\site-packages\\pandas\\core\\generic.py:2345\u001b[0m, in \u001b[0;36mNDFrame.to_excel\u001b[1;34m(self, excel_writer, sheet_name, na_rep, float_format, columns, header, index, index_label, startrow, startcol, engine, merge_cells, encoding, inf_rep, verbose, freeze_panes, storage_options)\u001b[0m\n\u001b[0;32m   2332\u001b[0m \u001b[38;5;28;01mfrom\u001b[39;00m \u001b[38;5;21;01mpandas\u001b[39;00m\u001b[38;5;21;01m.\u001b[39;00m\u001b[38;5;21;01mio\u001b[39;00m\u001b[38;5;21;01m.\u001b[39;00m\u001b[38;5;21;01mformats\u001b[39;00m\u001b[38;5;21;01m.\u001b[39;00m\u001b[38;5;21;01mexcel\u001b[39;00m \u001b[38;5;28;01mimport\u001b[39;00m ExcelFormatter\n\u001b[0;32m   2334\u001b[0m formatter \u001b[38;5;241m=\u001b[39m ExcelFormatter(\n\u001b[0;32m   2335\u001b[0m     df,\n\u001b[0;32m   2336\u001b[0m     na_rep\u001b[38;5;241m=\u001b[39mna_rep,\n\u001b[1;32m   (...)\u001b[0m\n\u001b[0;32m   2343\u001b[0m     inf_rep\u001b[38;5;241m=\u001b[39minf_rep,\n\u001b[0;32m   2344\u001b[0m )\n\u001b[1;32m-> 2345\u001b[0m \u001b[43mformatter\u001b[49m\u001b[38;5;241;43m.\u001b[39;49m\u001b[43mwrite\u001b[49m\u001b[43m(\u001b[49m\n\u001b[0;32m   2346\u001b[0m \u001b[43m    \u001b[49m\u001b[43mexcel_writer\u001b[49m\u001b[43m,\u001b[49m\n\u001b[0;32m   2347\u001b[0m \u001b[43m    \u001b[49m\u001b[43msheet_name\u001b[49m\u001b[38;5;241;43m=\u001b[39;49m\u001b[43msheet_name\u001b[49m\u001b[43m,\u001b[49m\n\u001b[0;32m   2348\u001b[0m \u001b[43m    \u001b[49m\u001b[43mstartrow\u001b[49m\u001b[38;5;241;43m=\u001b[39;49m\u001b[43mstartrow\u001b[49m\u001b[43m,\u001b[49m\n\u001b[0;32m   2349\u001b[0m \u001b[43m    \u001b[49m\u001b[43mstartcol\u001b[49m\u001b[38;5;241;43m=\u001b[39;49m\u001b[43mstartcol\u001b[49m\u001b[43m,\u001b[49m\n\u001b[0;32m   2350\u001b[0m \u001b[43m    \u001b[49m\u001b[43mfreeze_panes\u001b[49m\u001b[38;5;241;43m=\u001b[39;49m\u001b[43mfreeze_panes\u001b[49m\u001b[43m,\u001b[49m\n\u001b[0;32m   2351\u001b[0m \u001b[43m    \u001b[49m\u001b[43mengine\u001b[49m\u001b[38;5;241;43m=\u001b[39;49m\u001b[43mengine\u001b[49m\u001b[43m,\u001b[49m\n\u001b[0;32m   2352\u001b[0m \u001b[43m    \u001b[49m\u001b[43mstorage_options\u001b[49m\u001b[38;5;241;43m=\u001b[39;49m\u001b[43mstorage_options\u001b[49m\u001b[43m,\u001b[49m\n\u001b[0;32m   2353\u001b[0m \u001b[43m\u001b[49m\u001b[43m)\u001b[49m\n",
      "File \u001b[1;32mD:\\soft\\anaconda-4\\lib\\site-packages\\pandas\\io\\formats\\excel.py:894\u001b[0m, in \u001b[0;36mExcelFormatter.write\u001b[1;34m(self, writer, sheet_name, startrow, startcol, freeze_panes, engine, storage_options)\u001b[0m\n\u001b[0;32m    891\u001b[0m     need_save \u001b[38;5;241m=\u001b[39m \u001b[38;5;28;01mTrue\u001b[39;00m\n\u001b[0;32m    893\u001b[0m \u001b[38;5;28;01mtry\u001b[39;00m:\n\u001b[1;32m--> 894\u001b[0m     \u001b[43mwriter\u001b[49m\u001b[38;5;241;43m.\u001b[39;49m\u001b[43mwrite_cells\u001b[49m\u001b[43m(\u001b[49m\n\u001b[0;32m    895\u001b[0m \u001b[43m        \u001b[49m\u001b[43mformatted_cells\u001b[49m\u001b[43m,\u001b[49m\n\u001b[0;32m    896\u001b[0m \u001b[43m        \u001b[49m\u001b[43msheet_name\u001b[49m\u001b[43m,\u001b[49m\n\u001b[0;32m    897\u001b[0m \u001b[43m        \u001b[49m\u001b[43mstartrow\u001b[49m\u001b[38;5;241;43m=\u001b[39;49m\u001b[43mstartrow\u001b[49m\u001b[43m,\u001b[49m\n\u001b[0;32m    898\u001b[0m \u001b[43m        \u001b[49m\u001b[43mstartcol\u001b[49m\u001b[38;5;241;43m=\u001b[39;49m\u001b[43mstartcol\u001b[49m\u001b[43m,\u001b[49m\n\u001b[0;32m    899\u001b[0m \u001b[43m        \u001b[49m\u001b[43mfreeze_panes\u001b[49m\u001b[38;5;241;43m=\u001b[39;49m\u001b[43mfreeze_panes\u001b[49m\u001b[43m,\u001b[49m\n\u001b[0;32m    900\u001b[0m \u001b[43m    \u001b[49m\u001b[43m)\u001b[49m\n\u001b[0;32m    901\u001b[0m \u001b[38;5;28;01mfinally\u001b[39;00m:\n\u001b[0;32m    902\u001b[0m     \u001b[38;5;66;03m# make sure to close opened file handles\u001b[39;00m\n\u001b[0;32m    903\u001b[0m     \u001b[38;5;28;01mif\u001b[39;00m need_save:\n",
      "File \u001b[1;32mD:\\soft\\anaconda-4\\lib\\site-packages\\pandas\\io\\excel\\_xlsxwriter.py:219\u001b[0m, in \u001b[0;36mXlsxWriter.write_cells\u001b[1;34m(self, cells, sheet_name, startrow, startcol, freeze_panes)\u001b[0m\n\u001b[0;32m    217\u001b[0m     wks \u001b[38;5;241m=\u001b[39m \u001b[38;5;28mself\u001b[39m\u001b[38;5;241m.\u001b[39msheets[sheet_name]\n\u001b[0;32m    218\u001b[0m \u001b[38;5;28;01melse\u001b[39;00m:\n\u001b[1;32m--> 219\u001b[0m     wks \u001b[38;5;241m=\u001b[39m \u001b[38;5;28;43mself\u001b[39;49m\u001b[38;5;241;43m.\u001b[39;49m\u001b[43mbook\u001b[49m\u001b[38;5;241;43m.\u001b[39;49m\u001b[43madd_worksheet\u001b[49m\u001b[43m(\u001b[49m\u001b[43msheet_name\u001b[49m\u001b[43m)\u001b[49m\n\u001b[0;32m    220\u001b[0m     \u001b[38;5;28mself\u001b[39m\u001b[38;5;241m.\u001b[39msheets[sheet_name] \u001b[38;5;241m=\u001b[39m wks\n\u001b[0;32m    222\u001b[0m style_dict \u001b[38;5;241m=\u001b[39m {\u001b[38;5;124m\"\u001b[39m\u001b[38;5;124mnull\u001b[39m\u001b[38;5;124m\"\u001b[39m: \u001b[38;5;28;01mNone\u001b[39;00m}\n",
      "File \u001b[1;32mD:\\soft\\anaconda-4\\lib\\site-packages\\xlsxwriter\\workbook.py:189\u001b[0m, in \u001b[0;36mWorkbook.add_worksheet\u001b[1;34m(self, name, worksheet_class)\u001b[0m\n\u001b[0;32m    186\u001b[0m \u001b[38;5;28;01mif\u001b[39;00m worksheet_class \u001b[38;5;129;01mis\u001b[39;00m \u001b[38;5;28;01mNone\u001b[39;00m:\n\u001b[0;32m    187\u001b[0m     worksheet_class \u001b[38;5;241m=\u001b[39m \u001b[38;5;28mself\u001b[39m\u001b[38;5;241m.\u001b[39mworksheet_class\n\u001b[1;32m--> 189\u001b[0m \u001b[38;5;28;01mreturn\u001b[39;00m \u001b[38;5;28;43mself\u001b[39;49m\u001b[38;5;241;43m.\u001b[39;49m\u001b[43m_add_sheet\u001b[49m\u001b[43m(\u001b[49m\u001b[43mname\u001b[49m\u001b[43m,\u001b[49m\u001b[43m \u001b[49m\u001b[43mworksheet_class\u001b[49m\u001b[38;5;241;43m=\u001b[39;49m\u001b[43mworksheet_class\u001b[49m\u001b[43m)\u001b[49m\n",
      "File \u001b[1;32mD:\\soft\\anaconda-4\\lib\\site-packages\\xlsxwriter\\workbook.py:759\u001b[0m, in \u001b[0;36mWorkbook._add_sheet\u001b[1;34m(self, name, worksheet_class)\u001b[0m\n\u001b[0;32m    756\u001b[0m     worksheet \u001b[38;5;241m=\u001b[39m \u001b[38;5;28mself\u001b[39m\u001b[38;5;241m.\u001b[39mworksheet_class()\n\u001b[0;32m    758\u001b[0m sheet_index \u001b[38;5;241m=\u001b[39m \u001b[38;5;28mlen\u001b[39m(\u001b[38;5;28mself\u001b[39m\u001b[38;5;241m.\u001b[39mworksheets_objs)\n\u001b[1;32m--> 759\u001b[0m name \u001b[38;5;241m=\u001b[39m \u001b[38;5;28;43mself\u001b[39;49m\u001b[38;5;241;43m.\u001b[39;49m\u001b[43m_check_sheetname\u001b[49m\u001b[43m(\u001b[49m\u001b[43mname\u001b[49m\u001b[43m,\u001b[49m\u001b[43m \u001b[49m\u001b[38;5;28;43misinstance\u001b[39;49m\u001b[43m(\u001b[49m\u001b[43mworksheet\u001b[49m\u001b[43m,\u001b[49m\u001b[43m \u001b[49m\u001b[43mChartsheet\u001b[49m\u001b[43m)\u001b[49m\u001b[43m)\u001b[49m\n\u001b[0;32m    761\u001b[0m \u001b[38;5;66;03m# Initialization data to pass to the worksheet.\u001b[39;00m\n\u001b[0;32m    762\u001b[0m init_data \u001b[38;5;241m=\u001b[39m {\n\u001b[0;32m    763\u001b[0m     \u001b[38;5;124m'\u001b[39m\u001b[38;5;124mname\u001b[39m\u001b[38;5;124m'\u001b[39m: name,\n\u001b[0;32m    764\u001b[0m     \u001b[38;5;124m'\u001b[39m\u001b[38;5;124mindex\u001b[39m\u001b[38;5;124m'\u001b[39m: sheet_index,\n\u001b[1;32m   (...)\u001b[0m\n\u001b[0;32m    779\u001b[0m     \u001b[38;5;124m'\u001b[39m\u001b[38;5;124muse_future_functions\u001b[39m\u001b[38;5;124m'\u001b[39m: \u001b[38;5;28mself\u001b[39m\u001b[38;5;241m.\u001b[39muse_future_functions,\n\u001b[0;32m    780\u001b[0m }\n",
      "File \u001b[1;32mD:\\soft\\anaconda-4\\lib\\site-packages\\xlsxwriter\\workbook.py:808\u001b[0m, in \u001b[0;36mWorkbook._check_sheetname\u001b[1;34m(self, sheetname, is_chartsheet)\u001b[0m\n\u001b[0;32m    805\u001b[0m         sheetname \u001b[38;5;241m=\u001b[39m \u001b[38;5;28mself\u001b[39m\u001b[38;5;241m.\u001b[39msheet_name \u001b[38;5;241m+\u001b[39m \u001b[38;5;28mstr\u001b[39m(\u001b[38;5;28mself\u001b[39m\u001b[38;5;241m.\u001b[39msheetname_count)\n\u001b[0;32m    807\u001b[0m \u001b[38;5;66;03m# Check that sheet sheetname is <= 31. Excel limit.\u001b[39;00m\n\u001b[1;32m--> 808\u001b[0m \u001b[38;5;28;01mif\u001b[39;00m \u001b[38;5;28;43mlen\u001b[39;49m\u001b[43m(\u001b[49m\u001b[43msheetname\u001b[49m\u001b[43m)\u001b[49m \u001b[38;5;241m>\u001b[39m \u001b[38;5;241m31\u001b[39m:\n\u001b[0;32m    809\u001b[0m     \u001b[38;5;28;01mraise\u001b[39;00m InvalidWorksheetName(\n\u001b[0;32m    810\u001b[0m         \u001b[38;5;124m\"\u001b[39m\u001b[38;5;124mExcel worksheet name \u001b[39m\u001b[38;5;124m'\u001b[39m\u001b[38;5;132;01m%s\u001b[39;00m\u001b[38;5;124m'\u001b[39m\u001b[38;5;124m must be <= 31 chars.\u001b[39m\u001b[38;5;124m\"\u001b[39m \u001b[38;5;241m%\u001b[39m\n\u001b[0;32m    811\u001b[0m         sheetname)\n\u001b[0;32m    813\u001b[0m \u001b[38;5;66;03m# Check that sheetname doesn't contain any invalid characters.\u001b[39;00m\n",
      "\u001b[1;31mTypeError\u001b[0m: object of type 'float' has no len()"
     ]
    }
   ],
   "source": [
    "# 参考\n",
    "# https://blog.csdn.net/baidu_41797613/article/details/121555351\n",
    "\n",
    "import pandas as pd\n",
    "import numpy as np\n",
    "\n",
    "\n",
    "# 1、process video file, get the name of each category in period (output to different files)\n",
    "type_pd=pd.DataFrame()\n",
    "\n",
    "video=pd.read_excel(\"video-data.xlsx\")\n",
    "market=pd.read_excel(\"market-220929.xlsx\")\n",
    "\n",
    "START_DATE=220921\n",
    "END_DATE=220925\n",
    "CATEGORY='创意形式'\n",
    "OUTPUT_NAME=CATEGORY+\"-VIDEO-ANALYSIS.xlsx\"\n",
    "# '用户心理需求'\n",
    "# '开头'\n",
    "# '素材类型'\n",
    "# '主卖点'\n",
    "# '副卖点'\n",
    "# '创意形式'\n",
    "# '创意架构'\n",
    "# '游戏付费点'\n",
    "video = video[video['制作时间'] >= START_DATE]\n",
    "video = video[video['制作时间'] <= END_DATE]\n",
    "video_category_list=video[CATEGORY].unique()\n",
    "\n",
    "writer=pd.ExcelWriter(OUTPUT_NAME)\n",
    "\n",
    "for TYPE in video_category_list:\n",
    "\n",
    "    video_type = video[video[CATEGORY] == TYPE]\n",
    "    video_name_list=video_type['素材名'].unique()\n",
    "\n",
    "    new = pd.DataFrame()\n",
    "\n",
    "    for i in video_name_list:\n",
    "        if (market[market['素材名'].str.contains(i)].empty == False):\n",
    "            #new=new.append(market[market['素材名']==i])\n",
    "            new=new.append(market[market['素材名'].str.contains(i)],ignore_index=True)\n",
    "            new['TYPE']=TYPE\n",
    "    type_pd=type_pd.append(new)\n",
    "\n",
    "    new.to_excel(writer,sheet_name=TYPE,index=False)\n",
    "\n",
    "type_pd.to_excel(writer,sheet_name='ALL',index=False)\n",
    "\n",
    "#pt=pd.pivot_table(type_pd,index=[u'素材名',u'媒体',u'端'],aggfunc=np.sum,margins=False)\n",
    "def get_pt(pt):\n",
    "    new_pt = pd.DataFrame()\n",
    "    new_pt['消耗'] = pt['消耗']\n",
    "    new_pt['25%进度播放率%']=round(pt['25%进度播放数'] /pt['曝光数'], 3) * 100\n",
    "    new_pt['50%进度播放率%']=round(pt['50%进度播放数'] /pt['曝光数'], 3) * 100\n",
    "    new_pt['75%进度播放率%']=round(pt['75%进度播放数'] /pt['曝光数'], 3) * 100\n",
    "    new_pt['完播率%']=round(pt['99%进度播放数'] /pt['曝光数'], 3) * 100\n",
    "    new_pt['有效播放率%']=round(pt['有效播放数'] /pt['曝光数'], 3) * 100\n",
    "    new_pt['激活成本'] = round(pt['消耗'] / pt['激活数'], 1)\n",
    "    new_pt['付费成本'] = round(pt['消耗'] / pt['首日付费人数'], 1)\n",
    "    new_pt['点击率（%）'] = round(pt['点击数'] / pt['曝光数'], 4) * 100\n",
    "    new_pt['转化率（%）'] = round(pt['激活数'] / pt['点击数'], 3) * 100\n",
    "    new_pt['注册率（%）'] = round(pt['注册数'] / pt['激活数'], 3) * 100\n",
    "    new_pt['首日付费率（%）'] = round(pt['首日付费人数'] / pt['激活数'], 3) * 100\n",
    "    new_pt['次留率（%）'] = round(pt['次留数'] / pt['激活数'], 3) * 100\n",
    "    new_pt['首日ROI（%）'] = round(pt['首日付费金额'] / pt['消耗'], 3) * 100\n",
    "    new_pt['三日ROI（%）'] = round(pt['F3付费金额'] / pt['消耗'], 3) * 100\n",
    "    new_pt['3/1涨幅'] = round(new_pt['三日ROI（%）'] / new_pt['首日ROI（%）'], 2)\n",
    "    #new_pt['有效率（%）'] = round(pt['有效数'] / pt['激活数'], 3) * 100\n",
    "    return new_pt\n",
    "\n",
    "# pt_video=pd.pivot_table(type_pd,index=[u'TYPE',u'素材名',u'媒体',u'端'],aggfunc=np.sum,margins=False)\n",
    "\n",
    "# new_pt_video=get_pt(pt_video)\n",
    "# pt_market=pd.pivot_table(market,index=[u'端',u'素材名'],aggfunc=np.sum,margins=True)\n",
    "# new_pt_market=get_pt(pt_market)\n",
    "\n",
    "\n",
    "\n",
    "# pt.to_excel(writer,sheet_name='pt',index=True)\n",
    "# new_pt_video.to_excel(writer,sheet_name='pt-video',index=True)\n",
    "# new_pt_market.to_excel(writer,sheet_name='pt-market',index=True)\n",
    "\n",
    "writer.save()\n",
    "\n",
    "# all_data = pd.pivot_table(new, index=['month'], aggfunc=np.sum, margins=True)\n",
    "# print(all_data)\n",
    "print('done')"
   ]
  },
  {
   "cell_type": "code",
   "execution_count": 5,
   "metadata": {},
   "outputs": [
    {
     "name": "stderr",
     "output_type": "stream",
     "text": [
      "C:\\Users\\liumeishan1\\AppData\\Local\\Temp\\ipykernel_25332\\2181068170.py:25: FutureWarning: The frame.append method is deprecated and will be removed from pandas in a future version. Use pandas.concat instead.\n",
      "  new=new.append(market[market['素材名'].str.contains(i)],ignore_index=True)\n",
      "C:\\Users\\liumeishan1\\AppData\\Local\\Temp\\ipykernel_25332\\2181068170.py:25: FutureWarning: The frame.append method is deprecated and will be removed from pandas in a future version. Use pandas.concat instead.\n",
      "  new=new.append(market[market['素材名'].str.contains(i)],ignore_index=True)\n"
     ]
    },
    {
     "ename": "TypeError",
     "evalue": "first argument must be string or compiled pattern",
     "output_type": "error",
     "traceback": [
      "\u001b[1;31m---------------------------------------------------------------------------\u001b[0m",
      "\u001b[1;31mTypeError\u001b[0m                                 Traceback (most recent call last)",
      "Input \u001b[1;32mIn [5]\u001b[0m, in \u001b[0;36m<cell line: 18>\u001b[1;34m()\u001b[0m\n\u001b[0;32m     21\u001b[0m new \u001b[38;5;241m=\u001b[39m pd\u001b[38;5;241m.\u001b[39mDataFrame()\n\u001b[0;32m     23\u001b[0m \u001b[38;5;28;01mfor\u001b[39;00m i \u001b[38;5;129;01min\u001b[39;00m video_name_list:\n\u001b[1;32m---> 24\u001b[0m     \u001b[38;5;28;01mif\u001b[39;00m (market[\u001b[43mmarket\u001b[49m\u001b[43m[\u001b[49m\u001b[38;5;124;43m'\u001b[39;49m\u001b[38;5;124;43m素材名\u001b[39;49m\u001b[38;5;124;43m'\u001b[39;49m\u001b[43m]\u001b[49m\u001b[38;5;241;43m.\u001b[39;49m\u001b[43mstr\u001b[49m\u001b[38;5;241;43m.\u001b[39;49m\u001b[43mcontains\u001b[49m\u001b[43m(\u001b[49m\u001b[43mi\u001b[49m\u001b[43m)\u001b[49m]\u001b[38;5;241m.\u001b[39mempty\u001b[38;5;241m==\u001b[39m\u001b[38;5;28;01mFalse\u001b[39;00m):\n\u001b[0;32m     25\u001b[0m         new\u001b[38;5;241m=\u001b[39mnew\u001b[38;5;241m.\u001b[39mappend(market[market[\u001b[38;5;124m'\u001b[39m\u001b[38;5;124m素材名\u001b[39m\u001b[38;5;124m'\u001b[39m]\u001b[38;5;241m.\u001b[39mstr\u001b[38;5;241m.\u001b[39mcontains(i)],ignore_index\u001b[38;5;241m=\u001b[39m\u001b[38;5;28;01mTrue\u001b[39;00m)\n\u001b[0;32m     26\u001b[0m         new[\u001b[38;5;124m'\u001b[39m\u001b[38;5;124mTYPE\u001b[39m\u001b[38;5;124m'\u001b[39m]\u001b[38;5;241m=\u001b[39mTYPE\n",
      "File \u001b[1;32mD:\\soft\\anaconda-4\\lib\\site-packages\\pandas\\core\\strings\\accessor.py:125\u001b[0m, in \u001b[0;36mforbid_nonstring_types.<locals>._forbid_nonstring_types.<locals>.wrapper\u001b[1;34m(self, *args, **kwargs)\u001b[0m\n\u001b[0;32m    120\u001b[0m     msg \u001b[38;5;241m=\u001b[39m (\n\u001b[0;32m    121\u001b[0m         \u001b[38;5;124mf\u001b[39m\u001b[38;5;124m\"\u001b[39m\u001b[38;5;124mCannot use .str.\u001b[39m\u001b[38;5;132;01m{\u001b[39;00mfunc_name\u001b[38;5;132;01m}\u001b[39;00m\u001b[38;5;124m with values of \u001b[39m\u001b[38;5;124m\"\u001b[39m\n\u001b[0;32m    122\u001b[0m         \u001b[38;5;124mf\u001b[39m\u001b[38;5;124m\"\u001b[39m\u001b[38;5;124minferred dtype \u001b[39m\u001b[38;5;124m'\u001b[39m\u001b[38;5;132;01m{\u001b[39;00m\u001b[38;5;28mself\u001b[39m\u001b[38;5;241m.\u001b[39m_inferred_dtype\u001b[38;5;132;01m}\u001b[39;00m\u001b[38;5;124m'\u001b[39m\u001b[38;5;124m.\u001b[39m\u001b[38;5;124m\"\u001b[39m\n\u001b[0;32m    123\u001b[0m     )\n\u001b[0;32m    124\u001b[0m     \u001b[38;5;28;01mraise\u001b[39;00m \u001b[38;5;167;01mTypeError\u001b[39;00m(msg)\n\u001b[1;32m--> 125\u001b[0m \u001b[38;5;28;01mreturn\u001b[39;00m func(\u001b[38;5;28mself\u001b[39m, \u001b[38;5;241m*\u001b[39margs, \u001b[38;5;241m*\u001b[39m\u001b[38;5;241m*\u001b[39mkwargs)\n",
      "File \u001b[1;32mD:\\soft\\anaconda-4\\lib\\site-packages\\pandas\\core\\strings\\accessor.py:1214\u001b[0m, in \u001b[0;36mStringMethods.contains\u001b[1;34m(self, pat, case, flags, na, regex)\u001b[0m\n\u001b[0;32m   1089\u001b[0m \u001b[38;5;129m@forbid_nonstring_types\u001b[39m([\u001b[38;5;124m\"\u001b[39m\u001b[38;5;124mbytes\u001b[39m\u001b[38;5;124m\"\u001b[39m])\n\u001b[0;32m   1090\u001b[0m \u001b[38;5;28;01mdef\u001b[39;00m \u001b[38;5;21mcontains\u001b[39m(\u001b[38;5;28mself\u001b[39m, pat, case\u001b[38;5;241m=\u001b[39m\u001b[38;5;28;01mTrue\u001b[39;00m, flags\u001b[38;5;241m=\u001b[39m\u001b[38;5;241m0\u001b[39m, na\u001b[38;5;241m=\u001b[39m\u001b[38;5;28;01mNone\u001b[39;00m, regex\u001b[38;5;241m=\u001b[39m\u001b[38;5;28;01mTrue\u001b[39;00m):\n\u001b[0;32m   1091\u001b[0m     \u001b[38;5;124mr\u001b[39m\u001b[38;5;124;03m\"\"\"\u001b[39;00m\n\u001b[0;32m   1092\u001b[0m \u001b[38;5;124;03m    Test if pattern or regex is contained within a string of a Series or Index.\u001b[39;00m\n\u001b[0;32m   1093\u001b[0m \n\u001b[1;32m   (...)\u001b[0m\n\u001b[0;32m   1212\u001b[0m \u001b[38;5;124;03m    dtype: bool\u001b[39;00m\n\u001b[0;32m   1213\u001b[0m \u001b[38;5;124;03m    \"\"\"\u001b[39;00m\n\u001b[1;32m-> 1214\u001b[0m     \u001b[38;5;28;01mif\u001b[39;00m regex \u001b[38;5;129;01mand\u001b[39;00m \u001b[43mre\u001b[49m\u001b[38;5;241;43m.\u001b[39;49m\u001b[43mcompile\u001b[49m\u001b[43m(\u001b[49m\u001b[43mpat\u001b[49m\u001b[43m)\u001b[49m\u001b[38;5;241m.\u001b[39mgroups:\n\u001b[0;32m   1215\u001b[0m         warnings\u001b[38;5;241m.\u001b[39mwarn(\n\u001b[0;32m   1216\u001b[0m             \u001b[38;5;124m\"\u001b[39m\u001b[38;5;124mThis pattern is interpreted as a regular expression, and has \u001b[39m\u001b[38;5;124m\"\u001b[39m\n\u001b[0;32m   1217\u001b[0m             \u001b[38;5;124m\"\u001b[39m\u001b[38;5;124mmatch groups. To actually get the groups, use str.extract.\u001b[39m\u001b[38;5;124m\"\u001b[39m,\n\u001b[0;32m   1218\u001b[0m             \u001b[38;5;167;01mUserWarning\u001b[39;00m,\n\u001b[0;32m   1219\u001b[0m             stacklevel\u001b[38;5;241m=\u001b[39mfind_stack_level(),\n\u001b[0;32m   1220\u001b[0m         )\n\u001b[0;32m   1222\u001b[0m     result \u001b[38;5;241m=\u001b[39m \u001b[38;5;28mself\u001b[39m\u001b[38;5;241m.\u001b[39m_data\u001b[38;5;241m.\u001b[39marray\u001b[38;5;241m.\u001b[39m_str_contains(pat, case, flags, na, regex)\n",
      "File \u001b[1;32mD:\\soft\\anaconda-4\\lib\\re.py:252\u001b[0m, in \u001b[0;36mcompile\u001b[1;34m(pattern, flags)\u001b[0m\n\u001b[0;32m    250\u001b[0m \u001b[38;5;28;01mdef\u001b[39;00m \u001b[38;5;21mcompile\u001b[39m(pattern, flags\u001b[38;5;241m=\u001b[39m\u001b[38;5;241m0\u001b[39m):\n\u001b[0;32m    251\u001b[0m     \u001b[38;5;124m\"\u001b[39m\u001b[38;5;124mCompile a regular expression pattern, returning a Pattern object.\u001b[39m\u001b[38;5;124m\"\u001b[39m\n\u001b[1;32m--> 252\u001b[0m     \u001b[38;5;28;01mreturn\u001b[39;00m \u001b[43m_compile\u001b[49m\u001b[43m(\u001b[49m\u001b[43mpattern\u001b[49m\u001b[43m,\u001b[49m\u001b[43m \u001b[49m\u001b[43mflags\u001b[49m\u001b[43m)\u001b[49m\n",
      "File \u001b[1;32mD:\\soft\\anaconda-4\\lib\\re.py:303\u001b[0m, in \u001b[0;36m_compile\u001b[1;34m(pattern, flags)\u001b[0m\n\u001b[0;32m    301\u001b[0m     \u001b[38;5;28;01mreturn\u001b[39;00m pattern\n\u001b[0;32m    302\u001b[0m \u001b[38;5;28;01mif\u001b[39;00m \u001b[38;5;129;01mnot\u001b[39;00m sre_compile\u001b[38;5;241m.\u001b[39misstring(pattern):\n\u001b[1;32m--> 303\u001b[0m     \u001b[38;5;28;01mraise\u001b[39;00m \u001b[38;5;167;01mTypeError\u001b[39;00m(\u001b[38;5;124m\"\u001b[39m\u001b[38;5;124mfirst argument must be string or compiled pattern\u001b[39m\u001b[38;5;124m\"\u001b[39m)\n\u001b[0;32m    304\u001b[0m p \u001b[38;5;241m=\u001b[39m sre_compile\u001b[38;5;241m.\u001b[39mcompile(pattern, flags)\n\u001b[0;32m    305\u001b[0m \u001b[38;5;28;01mif\u001b[39;00m \u001b[38;5;129;01mnot\u001b[39;00m (flags \u001b[38;5;241m&\u001b[39m DEBUG):\n",
      "\u001b[1;31mTypeError\u001b[0m: first argument must be string or compiled pattern"
     ]
    }
   ],
   "source": [
    "# 参考\n",
    "# https://blog.csdn.net/baidu_41797613/article/details/121555351\n",
    "\n",
    "import pandas as pd\n",
    "import numpy as np\n",
    "# 1、process video file, get the name of each category in period (output to different files)\n",
    "video=pd.read_excel(\"video.xlsx\")\n",
    "market=pd.read_excel(\"market-220929.xlsx\")\n",
    "START_DATE = 220815\n",
    "END_DATE = 220821\n",
    "\n",
    "video = video[video['制作时间'] >= START_DATE]\n",
    "video = video[video['制作时间'] <= END_DATE]\n",
    "video_category_list=video['素材类型'].unique()\n",
    "\n",
    "writer=pd.ExcelWriter('output.xlsx')\n",
    "type_pd=pd.DataFrame()\n",
    "for TYPE in video_category_list:\n",
    "    video_type = video[video['素材类型'] == TYPE]\n",
    "    video_name_list=video_type['素材名'].unique()\n",
    "    new = pd.DataFrame()\n",
    "\n",
    "    for i in video_name_list:\n",
    "        if (market[market['素材名'].str.contains(i)].empty==False):\n",
    "            new=new.append(market[market['素材名'].str.contains(i)],ignore_index=True)\n",
    "            new['TYPE']=TYPE\n",
    "\n",
    "\n",
    "    new.to_excel(writer,sheet_name=TYPE,index=False)\n",
    "\n",
    "\n",
    "writer.save()\n",
    "\n",
    "# all_data = pd.pivot_table(new, index=['month'], aggfunc=np.sum, margins=True)\n",
    "# print(all_data)\n",
    "print('done')"
   ]
  },
  {
   "cell_type": "code",
   "execution_count": 49,
   "metadata": {
    "tags": []
   },
   "outputs": [
    {
     "name": "stdout",
     "output_type": "stream",
     "text": [
      "done\n"
     ]
    },
    {
     "name": "stderr",
     "output_type": "stream",
     "text": [
      "C:\\Users\\liumeishan1\\AppData\\Local\\Temp\\ipykernel_15988\\742558360.py:28: FutureWarning: The default value of regex will change from True to False in a future version.\n",
      "  out['素材名']=data['素材名'].str.replace('.mp4','')\n"
     ]
    }
   ],
   "source": [
    "# 朝霞素材统计报表快速筛选\n",
    "\n",
    "import pandas as pd\n",
    "import numpy as np\n",
    "SUCAI_NAME='快手-ios'\n",
    "# '头条-安卓'\n",
    "# '头条-ios'\n",
    "# '快手-安卓'\n",
    "# '快手-ios'\n",
    "SUCAI_LOC=SUCAI_NAME+'.xlsx'\n",
    "OUTPUT_NAME=SUCAI_NAME+'-output.xlsx'\n",
    "\n",
    "data=pd.read_excel(SUCAI_LOC)\n",
    "out=pd.DataFrame()\n",
    "\n",
    "MEITI=SUCAI_NAME.split('-')[0]\n",
    "DUAN=SUCAI_NAME.split('-')[1]\n",
    "data['媒体']=MEITI\n",
    "data['端']=DUAN\n",
    "\n",
    "\n",
    "out['媒体']=data['媒体']\n",
    "out['端']=data['端']\n",
    "out['cpsid']=0\n",
    "out['日期']=0\n",
    "\n",
    "\n",
    "out['素材名']=data['素材名'].str.replace('.mp4','')\n",
    "out['消耗']=data['花费']\n",
    "out['曝光数']=data['展示数']\n",
    "out['点击数']=data['点击数']\n",
    "out['25%进度播放数']=0\n",
    "out['50%进度播放数']=0\n",
    "out['75%进度播放数']=0\n",
    "out['99%进度播放数']=0\n",
    "out['有效播放数']=0\n",
    "\n",
    "out['激活数']=data['累计激活数']\n",
    "out['注册数']=data['累计注册数']\n",
    "out['首日付费人数']=data['首日付费数']\n",
    "out['次留']=0\n",
    "out['首日付费金额']=data['首日充值']*2\n",
    "out['F3付费金额']=data['3日充值']*2\n",
    "out['累计付费金额']=data['累计充值']*2\n",
    "writer=pd.ExcelWriter(OUTPUT_NAME)\n",
    "out.to_excel(writer,index=False)\n",
    "writer.save()\n",
    "print('done')\n"
   ]
  },
  {
   "cell_type": "code",
   "execution_count": null,
   "metadata": {},
   "outputs": [],
   "source": []
  }
 ],
 "metadata": {
  "kernelspec": {
   "display_name": "Python 3 (ipykernel)",
   "language": "python",
   "name": "python3"
  },
  "language_info": {
   "codemirror_mode": {
    "name": "ipython",
    "version": 3
   },
   "file_extension": ".py",
   "mimetype": "text/x-python",
   "name": "python",
   "nbconvert_exporter": "python",
   "pygments_lexer": "ipython3",
   "version": "3.9.12"
  }
 },
 "nbformat": 4,
 "nbformat_minor": 4
}
