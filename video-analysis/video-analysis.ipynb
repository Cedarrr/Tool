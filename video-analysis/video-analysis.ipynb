{
 "cells": [
  {
   "cell_type": "code",
   "execution_count": 7,
   "metadata": {
    "scrolled": true,
    "tags": []
   },
   "outputs": [
    {
     "ename": "SyntaxError",
     "evalue": "invalid syntax (2924825647.py, line 21)",
     "output_type": "error",
     "traceback": [
      "\u001b[1;36m  Input \u001b[1;32mIn [7]\u001b[1;36m\u001b[0m\n\u001b[1;33m    get data_class(in_data,column_name):\u001b[0m\n\u001b[1;37m        ^\u001b[0m\n\u001b[1;31mSyntaxError\u001b[0m\u001b[1;31m:\u001b[0m invalid syntax\n"
     ]
    }
   ],
   "source": [
    "# 行专列：https://www.cnblogs.com/traditional/p/11967360.html\n",
    "# 计算行列总和：https://blog.csdn.net/weixin_43745169/article/details/103372098\n",
    "\n",
    "import pandas as pd\n",
    "#from Texttable import texttable\n",
    "\n",
    "#import xlwt as xw\n",
    "\n",
    "START_DATE=220718\n",
    "END_DATE=220724\n",
    "DESIGNER=str(START_DATE)+'-'+str(END_DATE)\n",
    "\n",
    "data=pd.read_excel(\"video.xlsx\")\n",
    "data=data[data['制作时间']>=START_DATE]\n",
    "data=data[data['制作时间']<=END_DATE]\n",
    "\n",
    "data=data.rename(columns={'设计师':DESIGNER})\n",
    "\n",
    "writer=pd.ExcelWriter('output.xlsx')\n",
    "\n",
    "get data_class(in_data,column_name):\n",
    "    in_data=in_data.groupby([DESIGNER,column_name])\n",
    "    name_data=in_data['素材名'].apply(lambda x: \"、\".join(list(set(x.str.cat(sep=',').split(','))))).unstack()\n",
    "    count_data=in_data['素材名'].count().unstack()\n",
    "    count_data['总计']=count_data.apply(lambda x: x.sum(),axis=1)\n",
    "    count_data.loc['总计']=count_data.apply(lambda x: x.sum(),axis=0)\n",
    "    \n",
    "    name_data.to_excel(writer,'name')\n",
    "    count_data.to_excel(writer,'count')\n",
    "    \n",
    "\n",
    "data_class(data,'素材类型')\n",
    "\n",
    "\n",
    "writer.save()\n",
    "\n",
    "\n",
    "print('done')"
   ]
  },
  {
   "cell_type": "code",
   "execution_count": 15,
   "metadata": {
    "tags": []
   },
   "outputs": [
    {
     "name": "stderr",
     "output_type": "stream",
     "text": [
      "C:\\Users\\liumeishan1\\AppData\\Local\\Temp\\ipykernel_15136\\3140240843.py:32: FutureWarning: The frame.append method is deprecated and will be removed from pandas in a future version. Use pandas.concat instead.\n",
      "  new=new.append(market[market['素材名'].str.contains(i)],ignore_index=True)\n",
      "C:\\Users\\liumeishan1\\AppData\\Local\\Temp\\ipykernel_15136\\3140240843.py:32: FutureWarning: The frame.append method is deprecated and will be removed from pandas in a future version. Use pandas.concat instead.\n",
      "  new=new.append(market[market['素材名'].str.contains(i)],ignore_index=True)\n",
      "C:\\Users\\liumeishan1\\AppData\\Local\\Temp\\ipykernel_15136\\3140240843.py:34: FutureWarning: The frame.append method is deprecated and will be removed from pandas in a future version. Use pandas.concat instead.\n",
      "  type_pd=type_pd.append(new)\n",
      "C:\\Users\\liumeishan1\\AppData\\Local\\Temp\\ipykernel_15136\\3140240843.py:32: FutureWarning: The frame.append method is deprecated and will be removed from pandas in a future version. Use pandas.concat instead.\n",
      "  new=new.append(market[market['素材名'].str.contains(i)],ignore_index=True)\n",
      "C:\\Users\\liumeishan1\\AppData\\Local\\Temp\\ipykernel_15136\\3140240843.py:34: FutureWarning: The frame.append method is deprecated and will be removed from pandas in a future version. Use pandas.concat instead.\n",
      "  type_pd=type_pd.append(new)\n",
      "C:\\Users\\liumeishan1\\AppData\\Local\\Temp\\ipykernel_15136\\3140240843.py:32: FutureWarning: The frame.append method is deprecated and will be removed from pandas in a future version. Use pandas.concat instead.\n",
      "  new=new.append(market[market['素材名'].str.contains(i)],ignore_index=True)\n",
      "C:\\Users\\liumeishan1\\AppData\\Local\\Temp\\ipykernel_15136\\3140240843.py:34: FutureWarning: The frame.append method is deprecated and will be removed from pandas in a future version. Use pandas.concat instead.\n",
      "  type_pd=type_pd.append(new)\n",
      "C:\\Users\\liumeishan1\\AppData\\Local\\Temp\\ipykernel_15136\\3140240843.py:32: FutureWarning: The frame.append method is deprecated and will be removed from pandas in a future version. Use pandas.concat instead.\n",
      "  new=new.append(market[market['素材名'].str.contains(i)],ignore_index=True)\n",
      "C:\\Users\\liumeishan1\\AppData\\Local\\Temp\\ipykernel_15136\\3140240843.py:34: FutureWarning: The frame.append method is deprecated and will be removed from pandas in a future version. Use pandas.concat instead.\n",
      "  type_pd=type_pd.append(new)\n",
      "C:\\Users\\liumeishan1\\AppData\\Local\\Temp\\ipykernel_15136\\3140240843.py:32: FutureWarning: The frame.append method is deprecated and will be removed from pandas in a future version. Use pandas.concat instead.\n",
      "  new=new.append(market[market['素材名'].str.contains(i)],ignore_index=True)\n",
      "C:\\Users\\liumeishan1\\AppData\\Local\\Temp\\ipykernel_15136\\3140240843.py:34: FutureWarning: The frame.append method is deprecated and will be removed from pandas in a future version. Use pandas.concat instead.\n",
      "  type_pd=type_pd.append(new)\n",
      "C:\\Users\\liumeishan1\\AppData\\Local\\Temp\\ipykernel_15136\\3140240843.py:32: FutureWarning: The frame.append method is deprecated and will be removed from pandas in a future version. Use pandas.concat instead.\n",
      "  new=new.append(market[market['素材名'].str.contains(i)],ignore_index=True)\n",
      "C:\\Users\\liumeishan1\\AppData\\Local\\Temp\\ipykernel_15136\\3140240843.py:32: FutureWarning: The frame.append method is deprecated and will be removed from pandas in a future version. Use pandas.concat instead.\n",
      "  new=new.append(market[market['素材名'].str.contains(i)],ignore_index=True)\n",
      "C:\\Users\\liumeishan1\\AppData\\Local\\Temp\\ipykernel_15136\\3140240843.py:34: FutureWarning: The frame.append method is deprecated and will be removed from pandas in a future version. Use pandas.concat instead.\n",
      "  type_pd=type_pd.append(new)\n",
      "C:\\Users\\liumeishan1\\AppData\\Local\\Temp\\ipykernel_15136\\3140240843.py:32: FutureWarning: The frame.append method is deprecated and will be removed from pandas in a future version. Use pandas.concat instead.\n",
      "  new=new.append(market[market['素材名'].str.contains(i)],ignore_index=True)\n",
      "C:\\Users\\liumeishan1\\AppData\\Local\\Temp\\ipykernel_15136\\3140240843.py:34: FutureWarning: The frame.append method is deprecated and will be removed from pandas in a future version. Use pandas.concat instead.\n",
      "  type_pd=type_pd.append(new)\n",
      "C:\\Users\\liumeishan1\\AppData\\Local\\Temp\\ipykernel_15136\\3140240843.py:32: FutureWarning: The frame.append method is deprecated and will be removed from pandas in a future version. Use pandas.concat instead.\n",
      "  new=new.append(market[market['素材名'].str.contains(i)],ignore_index=True)\n",
      "C:\\Users\\liumeishan1\\AppData\\Local\\Temp\\ipykernel_15136\\3140240843.py:34: FutureWarning: The frame.append method is deprecated and will be removed from pandas in a future version. Use pandas.concat instead.\n",
      "  type_pd=type_pd.append(new)\n"
     ]
    },
    {
     "name": "stdout",
     "output_type": "stream",
     "text": [
      "done\n"
     ]
    }
   ],
   "source": [
    "# 参考\n",
    "# https://blog.csdn.net/baidu_41797613/article/details/121555351\n",
    "\n",
    "import pandas as pd\n",
    "import numpy as np\n",
    "\n",
    "\n",
    "# 1、process video file, get the name of each category in period (output to different files)\n",
    "type_pd=pd.DataFrame()\n",
    "\n",
    "video=pd.read_excel(\"video-data.xlsx\")\n",
    "market=pd.read_excel(\"market.xlsx\")\n",
    "START_DATE = 220718\n",
    "END_DATE = 220724\n",
    "\n",
    "video = video[video['制作时间'] >= START_DATE]\n",
    "video = video[video['制作时间'] <= END_DATE]\n",
    "video_category_list=video['用户心理需求'].unique()\n",
    "\n",
    "writer=pd.ExcelWriter('output-analysis.xlsx')\n",
    "\n",
    "for TYPE in video_category_list:\n",
    "\n",
    "    video_type = video[video['用户心理需求'] == TYPE]\n",
    "    video_name_list=video_type['素材名'].unique()\n",
    "\n",
    "    new = pd.DataFrame()\n",
    "\n",
    "    for i in video_name_list:\n",
    "        if (market[market['素材名'].str.contains(i)].empty == False):\n",
    "            #new=new.append(market[market['素材名']==i])\n",
    "            new=new.append(market[market['素材名'].str.contains(i)],ignore_index=True)\n",
    "            new['TYPE']=TYPE\n",
    "    type_pd=type_pd.append(new)\n",
    "\n",
    "    new.to_excel(writer,sheet_name=TYPE,index=False)\n",
    "\n",
    "type_pd.to_excel(writer,sheet_name='ALL',index=False)\n",
    "\n",
    "# pt=pd.pivot_table(type_pd,index=[u'TYPE',u'素材名'],aggfunc=np.sum,margins=True)\n",
    "def get_pt(pt):\n",
    "    new_pt = pd.DataFrame()\n",
    "    new_pt['消耗'] = pt['消耗']\n",
    "    new_pt['激活成本'] = round(pt['消耗'] / pt['激活数'], 1)\n",
    "    new_pt['付费成本'] = round(pt['消耗'] / pt['首日付费人数'], 1)\n",
    "    new_pt['点击率（%）'] = round(pt['点击数'] / pt['曝光数'], 4) * 100\n",
    "    new_pt['转化率（%）'] = round(pt['激活数'] / pt['点击数'], 3) * 100\n",
    "    new_pt['注册率（%）'] = round(pt['注册数'] / pt['激活数'], 3) * 100\n",
    "    new_pt['首日付费率（%）'] = round(pt['首日付费人数'] / pt['激活数'], 3) * 100\n",
    "    new_pt['次留率（%）'] = round(pt['次留数'] / pt['激活数'], 3) * 100\n",
    "    new_pt['首日ROI（%）'] = round(pt['首日付费金额'] / pt['消耗'], 3) * 100\n",
    "    new_pt['三日ROI（%）'] = round(pt['F3付费金额'] / pt['消耗'], 3) * 100\n",
    "    new_pt['3/1涨幅'] = round(new_pt['三日ROI（%）'] / new_pt['首日ROI（%）'], 2)\n",
    "    #new_pt['有效率（%）'] = round(pt['有效数'] / pt['激活数'], 3) * 100\n",
    "    return new_pt\n",
    "\n",
    "pt_video=pd.pivot_table(type_pd,index=[u'TYPE',u'素材名'],aggfunc=np.sum,margins=True)\n",
    "#pt_video=pd.pivot_table(type_pd,index=[u'TYPE',u'素材名'],aggfunc=np.sum,margins=True).sort_values(ascending=False,by=['消耗'])\n",
    "new_pt_video=get_pt(pt_video)\n",
    "pt_market=pd.pivot_table(market,index=[u'端',u'素材名'],aggfunc=np.sum,margins=True)\n",
    "new_pt_market=get_pt(pt_market)\n",
    "# fig=plt.figrue(figsize=(50,50),dpi=1400)\n",
    "# ax=fig.add_subplot\n",
    "\n",
    "\n",
    "new_pt_video.to_excel(writer,sheet_name='pt-video',index=True)\n",
    "new_pt_market.to_excel(writer,sheet_name='pt-market',index=True)\n",
    "writer.save()\n",
    "\n",
    "# all_data = pd.pivot_table(new, index=['month'], aggfunc=np.sum, margins=True)\n",
    "# print(all_data)\n",
    "print('done')"
   ]
  },
  {
   "cell_type": "code",
   "execution_count": 5,
   "metadata": {},
   "outputs": [
    {
     "name": "stdout",
     "output_type": "stream",
     "text": [
      "done\n"
     ]
    },
    {
     "name": "stderr",
     "output_type": "stream",
     "text": [
      "C:\\Users\\liumeishan1\\AppData\\Local\\Temp\\ipykernel_15136\\4202641319.py:25: FutureWarning: The frame.append method is deprecated and will be removed from pandas in a future version. Use pandas.concat instead.\n",
      "  new=new.append(market[market['素材名'].str.contains(i)],ignore_index=True)\n",
      "C:\\Users\\liumeishan1\\AppData\\Local\\Temp\\ipykernel_15136\\4202641319.py:25: FutureWarning: The frame.append method is deprecated and will be removed from pandas in a future version. Use pandas.concat instead.\n",
      "  new=new.append(market[market['素材名'].str.contains(i)],ignore_index=True)\n"
     ]
    }
   ],
   "source": [
    "# 参考\n",
    "# https://blog.csdn.net/baidu_41797613/article/details/121555351\n",
    "\n",
    "import pandas as pd\n",
    "import numpy as np\n",
    "# 1、process video file, get the name of each category in period (output to different files)\n",
    "video=pd.read_excel(\"video.xlsx\")\n",
    "market=pd.read_excel(\"market.xlsx\")\n",
    "START_DATE = 220530\n",
    "END_DATE = 220605\n",
    "\n",
    "video = video[video['制作时间'] >= START_DATE]\n",
    "video = video[video['制作时间'] <= END_DATE]\n",
    "video_category_list=video['素材类型'].unique()\n",
    "\n",
    "writer=pd.ExcelWriter('output.xlsx')\n",
    "type_pd=pd.DataFrame()\n",
    "for TYPE in video_category_list:\n",
    "    video_type = video[video['素材类型'] == TYPE]\n",
    "    video_name_list=video_type['素材名'].unique()\n",
    "    new = pd.DataFrame()\n",
    "\n",
    "    for i in video_name_list:\n",
    "        if (market[market['素材名'].str.contains(i)].empty==False):\n",
    "            new=new.append(market[market['素材名'].str.contains(i)],ignore_index=True)\n",
    "            new['TYPE']=TYPE\n",
    "\n",
    "\n",
    "    new.to_excel(writer,sheet_name=TYPE,index=False)\n",
    "\n",
    "\n",
    "writer.save()\n",
    "\n",
    "# all_data = pd.pivot_table(new, index=['month'], aggfunc=np.sum, margins=True)\n",
    "# print(all_data)\n",
    "print('done')"
   ]
  },
  {
   "cell_type": "code",
   "execution_count": null,
   "metadata": {},
   "outputs": [],
   "source": []
  }
 ],
 "metadata": {
  "kernelspec": {
   "display_name": "Python 3 (ipykernel)",
   "language": "python",
   "name": "python3"
  },
  "language_info": {
   "codemirror_mode": {
    "name": "ipython",
    "version": 3
   },
   "file_extension": ".py",
   "mimetype": "text/x-python",
   "name": "python",
   "nbconvert_exporter": "python",
   "pygments_lexer": "ipython3",
   "version": "3.9.12"
  }
 },
 "nbformat": 4,
 "nbformat_minor": 4
}
