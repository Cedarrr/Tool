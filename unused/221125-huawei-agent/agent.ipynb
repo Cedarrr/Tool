{
 "cells": [
  {
   "cell_type": "code",
   "execution_count": 31,
   "id": "822ac840-4874-4343-a388-931b15cf1848",
   "metadata": {},
   "outputs": [
    {
     "name": "stdout",
     "output_type": "stream",
     "text": [
      "年月-任务 done\n",
      "任务名 done\n",
      "任务-年月 done\n",
      "done\n"
     ]
    }
   ],
   "source": [
    "# huawei mingxi\n",
    "\n",
    "import pandas as pd\n",
    "import numpy as np\n",
    "\n",
    "data=pd.read_excel(\"mingxi.xlsx\")\n",
    "#data_pt=pd.pivot_table(data,index=[u'年月',u'任务名'])\n",
    "\n",
    "writer=pd.ExcelWriter('out.xlsx')\n",
    "\n",
    "def get_groupby(data,group_index,name):\n",
    "    data_groupy=data.groupby(group_index).aggregate({'日期':\"count\",'注册数':\"sum\",'消耗金额':\"sum\",'新增付费金额':\"sum\",'付费总额':\"sum\",'总付费人数':\"sum\"})\n",
    "    data_groupy=data_groupy.rename(columns={'日期':'计划个数'})\n",
    "\n",
    "    data_groupy['注册成本']=data_groupy['消耗金额']/data_groupy['注册数']\n",
    "    data_groupy['付费率']=round(data_groupy['总付费人数']/data_groupy['注册数']*100,2)\n",
    "    data_groupy['首日ROI']=round(data_groupy['新增付费金额']/data_groupy['消耗金额']*100*0.5*0.95,2)\n",
    "    data_groupy['总ROI']=round(data_groupy['付费总额']/data_groupy['消耗金额']*100*0.5*0.95,2)\n",
    "    data_groupy[np.isinf(data_groupy)]=0\n",
    "    data_groupy.fillna(0).style.background_gradient(cmap='Blues').to_excel(writer,name)\n",
    "    print(name,'done')\n",
    "\n",
    "\n",
    "get_groupby(data,['年月','任务名'],\"年月-任务\")\n",
    "get_groupby(data,['任务名'],\"任务名\")\n",
    "get_groupby(data,['任务名','年月'],\"任务-年月\")\n",
    "\n",
    "\n",
    "\n",
    "writer.save()\n",
    "print('done')"
   ]
  },
  {
   "cell_type": "code",
   "execution_count": 6,
   "id": "b1066e9a-066c-4801-abf7-89f0c26fe568",
   "metadata": {},
   "outputs": [
    {
     "name": "stdout",
     "output_type": "stream",
     "text": [
      "年月 done\n",
      "done\n"
     ]
    }
   ],
   "source": [
    "# huawei toufangci\n",
    "import pandas as pd\n",
    "import numpy as np\n",
    "\n",
    "data=pd.read_excel(\"toufangci.xlsx\")\n",
    "\n",
    "\n",
    "\n",
    "writer=pd.ExcelWriter('out-toufangci.xlsx')\n",
    "\n",
    "def get_groupby(data,group_index,name):\n",
    "    data_groupy=data.groupby(group_index).aggregate({'日期':\"count\",'消耗金额（¥）':\"sum\"})\n",
    "    data_groupy=data_groupy.rename(columns={'日期':'计划个数'})\n",
    "\n",
    "    data_groupy[np.isinf(data_groupy)]=0\n",
    "    data_groupy=data_groupy.fillna(0)\n",
    "    data_groupy.sort_values(by=['年月','消耗金额（¥）','计划个数'],ascending=[True,False,False],inplace=True)\n",
    "    data_groupy.style.background_gradient(cmap='Blues').to_excel(writer,name)\n",
    "    print(name,'done')\n",
    "\n",
    "\n",
    "get_groupby(data,['年月','投放词'],\"年月\")\n",
    "\n",
    "\n",
    " \n",
    "\n",
    "\n",
    "\n",
    "writer.save()\n",
    "print('done')"
   ]
  },
  {
   "cell_type": "code",
   "execution_count": null,
   "id": "a970294c-4f58-4e7c-9deb-d28ebddbea3c",
   "metadata": {},
   "outputs": [],
   "source": [
    "## 联运买量表\n",
    "import pandas as pd\n",
    "data=pd.read_excel('')"
   ]
  }
 ],
 "metadata": {
  "kernelspec": {
   "display_name": "Python 3 (ipykernel)",
   "language": "python",
   "name": "python3"
  },
  "language_info": {
   "codemirror_mode": {
    "name": "ipython",
    "version": 3
   },
   "file_extension": ".py",
   "mimetype": "text/x-python",
   "name": "python",
   "nbconvert_exporter": "python",
   "pygments_lexer": "ipython3",
   "version": "3.9.12"
  }
 },
 "nbformat": 4,
 "nbformat_minor": 5
}
